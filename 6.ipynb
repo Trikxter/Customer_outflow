{
 "cells": [
  {
   "cell_type": "markdown",
   "metadata": {
    "toc": true
   },
   "source": [
    "<h1>Содержание<span class=\"tocSkip\"></span></h1>\n",
    "<div class=\"toc\"><ul class=\"toc-item\"><li><span><a href=\"#Подготовка-данных\" data-toc-modified-id=\"Подготовка-данных-1\"><span class=\"toc-item-num\">1&nbsp;&nbsp;</span>Подготовка данных</a></span></li><li><span><a href=\"#Исследование-задачи\" data-toc-modified-id=\"Исследование-задачи-2\"><span class=\"toc-item-num\">2&nbsp;&nbsp;</span>Исследование задачи</a></span></li><li><span><a href=\"#Борьба-с-дисбалансом\" data-toc-modified-id=\"Борьба-с-дисбалансом-3\"><span class=\"toc-item-num\">3&nbsp;&nbsp;</span>Борьба с дисбалансом</a></span><ul class=\"toc-item\"><li><span><a href=\"#Модель-&quot;Решающее-дерево&quot;\" data-toc-modified-id=\"Модель-&quot;Решающее-дерево&quot;-3.1\"><span class=\"toc-item-num\">3.1&nbsp;&nbsp;</span>Модель \"Решающее дерево\"</a></span></li><li><span><a href=\"#Модель-&quot;Случайный-Лес&quot;\" data-toc-modified-id=\"Модель-&quot;Случайный-Лес&quot;-3.2\"><span class=\"toc-item-num\">3.2&nbsp;&nbsp;</span>Модель \"Случайный Лес\"</a></span></li><li><span><a href=\"#Модель-&quot;Логистическая-регрессия&quot;\" data-toc-modified-id=\"Модель-&quot;Логистическая-регрессия&quot;-3.3\"><span class=\"toc-item-num\">3.3&nbsp;&nbsp;</span>Модель \"Логистическая регрессия\"</a></span></li><li><span><a href=\"#Взвешивание-классов\" data-toc-modified-id=\"Взвешивание-классов-3.4\"><span class=\"toc-item-num\">3.4&nbsp;&nbsp;</span>Взвешивание классов</a></span></li><li><span><a href=\"#Модель-&quot;Решающее-Дерево&quot;\" data-toc-modified-id=\"Модель-&quot;Решающее-Дерево&quot;-3.5\"><span class=\"toc-item-num\">3.5&nbsp;&nbsp;</span>Модель \"Решающее Дерево\"</a></span></li><li><span><a href=\"#Модель-&quot;Случайный-Лес&quot;\" data-toc-modified-id=\"Модель-&quot;Случайный-Лес&quot;-3.6\"><span class=\"toc-item-num\">3.6&nbsp;&nbsp;</span>Модель \"Случайный Лес\"</a></span></li><li><span><a href=\"#ROC-кривые\" data-toc-modified-id=\"ROC-кривые-3.7\"><span class=\"toc-item-num\">3.7&nbsp;&nbsp;</span>ROC-кривые</a></span></li></ul></li><li><span><a href=\"#Тестирование-модели\" data-toc-modified-id=\"Тестирование-модели-4\"><span class=\"toc-item-num\">4&nbsp;&nbsp;</span>Тестирование модели</a></span></li><li><span><a href=\"#Вывод\" data-toc-modified-id=\"Вывод-5\"><span class=\"toc-item-num\">5&nbsp;&nbsp;</span>Вывод</a></span></li><li><span><a href=\"#Чек-лист-готовности-проекта\" data-toc-modified-id=\"Чек-лист-готовности-проекта-6\"><span class=\"toc-item-num\">6&nbsp;&nbsp;</span>Чек-лист готовности проекта</a></span></li></ul></div>"
   ]
  },
  {
   "cell_type": "markdown",
   "metadata": {},
   "source": [
    "# Отток клиентов"
   ]
  },
  {
   "cell_type": "markdown",
   "metadata": {},
   "source": [
    "Из «Бета-Банка» стали уходить клиенты. Каждый месяц. Немного, но заметно. Банковские маркетологи посчитали: сохранять текущих клиентов дешевле, чем привлекать новых.\n",
    "\n",
    "Нужно спрогнозировать, уйдёт клиент из банка в ближайшее время или нет. Вам предоставлены исторические данные о поведении клиентов и расторжении договоров с банком. \n",
    "\n",
    "Постройте модель с предельно большим значением *F1*-меры. Чтобы сдать проект успешно, нужно довести метрику до 0.59. Проверьте *F1*-меру на тестовой выборке самостоятельно.\n",
    "\n",
    "Дополнительно измеряйте *AUC-ROC*, сравнивайте её значение с *F1*-мерой.\n",
    "\n"
   ]
  },
  {
   "cell_type": "markdown",
   "metadata": {},
   "source": [
    "# Описание данных\n",
    "Данные находятся в файле /datasets/Churn.csv (англ. «отток клиентов»).\n",
    "\n",
    "Признаки :\n",
    "**RowNumber** — индекс строки в данных;\n",
    "**CustomerId** — уникальный идентификатор клиента;\n",
    "**Surname** — фамилия;\n",
    "**CreditScore** — кредитный рейтинг;\n",
    "**Geography** — страна проживания;\n",
    "**Gender** — пол;\n",
    "**Age** — возраст;\n",
    "**Tenure**— сколько лет человек является клиентом банка;\n",
    "**Balance** — баланс на счёте;\n",
    "**NumOfProducts** — количество продуктов банка, используемых клиентом;\n",
    "**HasCrCard** — наличие кредитной карты;\n",
    "**IsActiveMember** — активность клиента;\n",
    "**EstimatedSalary** — предполагаемая зарплата;\n",
    "\n",
    "Целевой признак :\n",
    "**Exited** — факт ухода клиента"
   ]
  },
  {
   "cell_type": "markdown",
   "metadata": {},
   "source": [
    "## Подготовка данных"
   ]
  },
  {
   "cell_type": "markdown",
   "metadata": {},
   "source": [
    "Импортируем необходимые нам библиотеки"
   ]
  },
  {
   "cell_type": "code",
   "execution_count": 1,
   "metadata": {},
   "outputs": [],
   "source": [
    "import pandas as pd\n",
    "import numpy as np\n",
    "from sklearn.ensemble import RandomForestClassifier\n",
    "from sklearn.linear_model import LinearRegression\n",
    "from sklearn.model_selection import train_test_split\n",
    "from sklearn.tree import DecisionTreeClassifier\n",
    "from sklearn.metrics import mean_squared_error\n",
    "from sklearn.dummy import DummyClassifier\n",
    "from sklearn.linear_model import LogisticRegression\n",
    "from sklearn.metrics import f1_score\n",
    "from sklearn.metrics import roc_auc_score\n",
    "from sklearn.preprocessing import StandardScaler\n",
    "from sklearn.model_selection import GridSearchCV\n",
    "from sklearn.metrics import accuracy_score\n",
    "from sklearn.metrics import confusion_matrix\n",
    "from sklearn.metrics import precision_score,recall_score\n",
    "from sklearn.metrics import precision_recall_curve\n",
    "from sklearn.metrics import roc_curve\n",
    "from sklearn.metrics import make_scorer\n",
    "from sklearn.utils import shuffle\n",
    "import matplotlib.pyplot as plt\n",
    "import warnings\n",
    "warnings.filterwarnings('ignore')\n"
   ]
  },
  {
   "cell_type": "markdown",
   "metadata": {},
   "source": [
    "Прочитаем датафрем и выведем первые 20 строчек"
   ]
  },
  {
   "cell_type": "code",
   "execution_count": 2,
   "metadata": {},
   "outputs": [
    {
     "data": {
      "text/html": [
       "<div>\n",
       "<style scoped>\n",
       "    .dataframe tbody tr th:only-of-type {\n",
       "        vertical-align: middle;\n",
       "    }\n",
       "\n",
       "    .dataframe tbody tr th {\n",
       "        vertical-align: top;\n",
       "    }\n",
       "\n",
       "    .dataframe thead th {\n",
       "        text-align: right;\n",
       "    }\n",
       "</style>\n",
       "<table border=\"1\" class=\"dataframe\">\n",
       "  <thead>\n",
       "    <tr style=\"text-align: right;\">\n",
       "      <th></th>\n",
       "      <th>RowNumber</th>\n",
       "      <th>CustomerId</th>\n",
       "      <th>Surname</th>\n",
       "      <th>CreditScore</th>\n",
       "      <th>Geography</th>\n",
       "      <th>Gender</th>\n",
       "      <th>Age</th>\n",
       "      <th>Tenure</th>\n",
       "      <th>Balance</th>\n",
       "      <th>NumOfProducts</th>\n",
       "      <th>HasCrCard</th>\n",
       "      <th>IsActiveMember</th>\n",
       "      <th>EstimatedSalary</th>\n",
       "      <th>Exited</th>\n",
       "    </tr>\n",
       "  </thead>\n",
       "  <tbody>\n",
       "    <tr>\n",
       "      <td>0</td>\n",
       "      <td>1</td>\n",
       "      <td>15634602</td>\n",
       "      <td>Hargrave</td>\n",
       "      <td>619</td>\n",
       "      <td>France</td>\n",
       "      <td>Female</td>\n",
       "      <td>42</td>\n",
       "      <td>2.0</td>\n",
       "      <td>0.00</td>\n",
       "      <td>1</td>\n",
       "      <td>1</td>\n",
       "      <td>1</td>\n",
       "      <td>101348.88</td>\n",
       "      <td>1</td>\n",
       "    </tr>\n",
       "    <tr>\n",
       "      <td>1</td>\n",
       "      <td>2</td>\n",
       "      <td>15647311</td>\n",
       "      <td>Hill</td>\n",
       "      <td>608</td>\n",
       "      <td>Spain</td>\n",
       "      <td>Female</td>\n",
       "      <td>41</td>\n",
       "      <td>1.0</td>\n",
       "      <td>83807.86</td>\n",
       "      <td>1</td>\n",
       "      <td>0</td>\n",
       "      <td>1</td>\n",
       "      <td>112542.58</td>\n",
       "      <td>0</td>\n",
       "    </tr>\n",
       "    <tr>\n",
       "      <td>2</td>\n",
       "      <td>3</td>\n",
       "      <td>15619304</td>\n",
       "      <td>Onio</td>\n",
       "      <td>502</td>\n",
       "      <td>France</td>\n",
       "      <td>Female</td>\n",
       "      <td>42</td>\n",
       "      <td>8.0</td>\n",
       "      <td>159660.80</td>\n",
       "      <td>3</td>\n",
       "      <td>1</td>\n",
       "      <td>0</td>\n",
       "      <td>113931.57</td>\n",
       "      <td>1</td>\n",
       "    </tr>\n",
       "    <tr>\n",
       "      <td>3</td>\n",
       "      <td>4</td>\n",
       "      <td>15701354</td>\n",
       "      <td>Boni</td>\n",
       "      <td>699</td>\n",
       "      <td>France</td>\n",
       "      <td>Female</td>\n",
       "      <td>39</td>\n",
       "      <td>1.0</td>\n",
       "      <td>0.00</td>\n",
       "      <td>2</td>\n",
       "      <td>0</td>\n",
       "      <td>0</td>\n",
       "      <td>93826.63</td>\n",
       "      <td>0</td>\n",
       "    </tr>\n",
       "    <tr>\n",
       "      <td>4</td>\n",
       "      <td>5</td>\n",
       "      <td>15737888</td>\n",
       "      <td>Mitchell</td>\n",
       "      <td>850</td>\n",
       "      <td>Spain</td>\n",
       "      <td>Female</td>\n",
       "      <td>43</td>\n",
       "      <td>2.0</td>\n",
       "      <td>125510.82</td>\n",
       "      <td>1</td>\n",
       "      <td>1</td>\n",
       "      <td>1</td>\n",
       "      <td>79084.10</td>\n",
       "      <td>0</td>\n",
       "    </tr>\n",
       "    <tr>\n",
       "      <td>5</td>\n",
       "      <td>6</td>\n",
       "      <td>15574012</td>\n",
       "      <td>Chu</td>\n",
       "      <td>645</td>\n",
       "      <td>Spain</td>\n",
       "      <td>Male</td>\n",
       "      <td>44</td>\n",
       "      <td>8.0</td>\n",
       "      <td>113755.78</td>\n",
       "      <td>2</td>\n",
       "      <td>1</td>\n",
       "      <td>0</td>\n",
       "      <td>149756.71</td>\n",
       "      <td>1</td>\n",
       "    </tr>\n",
       "    <tr>\n",
       "      <td>6</td>\n",
       "      <td>7</td>\n",
       "      <td>15592531</td>\n",
       "      <td>Bartlett</td>\n",
       "      <td>822</td>\n",
       "      <td>France</td>\n",
       "      <td>Male</td>\n",
       "      <td>50</td>\n",
       "      <td>7.0</td>\n",
       "      <td>0.00</td>\n",
       "      <td>2</td>\n",
       "      <td>1</td>\n",
       "      <td>1</td>\n",
       "      <td>10062.80</td>\n",
       "      <td>0</td>\n",
       "    </tr>\n",
       "    <tr>\n",
       "      <td>7</td>\n",
       "      <td>8</td>\n",
       "      <td>15656148</td>\n",
       "      <td>Obinna</td>\n",
       "      <td>376</td>\n",
       "      <td>Germany</td>\n",
       "      <td>Female</td>\n",
       "      <td>29</td>\n",
       "      <td>4.0</td>\n",
       "      <td>115046.74</td>\n",
       "      <td>4</td>\n",
       "      <td>1</td>\n",
       "      <td>0</td>\n",
       "      <td>119346.88</td>\n",
       "      <td>1</td>\n",
       "    </tr>\n",
       "    <tr>\n",
       "      <td>8</td>\n",
       "      <td>9</td>\n",
       "      <td>15792365</td>\n",
       "      <td>He</td>\n",
       "      <td>501</td>\n",
       "      <td>France</td>\n",
       "      <td>Male</td>\n",
       "      <td>44</td>\n",
       "      <td>4.0</td>\n",
       "      <td>142051.07</td>\n",
       "      <td>2</td>\n",
       "      <td>0</td>\n",
       "      <td>1</td>\n",
       "      <td>74940.50</td>\n",
       "      <td>0</td>\n",
       "    </tr>\n",
       "    <tr>\n",
       "      <td>9</td>\n",
       "      <td>10</td>\n",
       "      <td>15592389</td>\n",
       "      <td>H?</td>\n",
       "      <td>684</td>\n",
       "      <td>France</td>\n",
       "      <td>Male</td>\n",
       "      <td>27</td>\n",
       "      <td>2.0</td>\n",
       "      <td>134603.88</td>\n",
       "      <td>1</td>\n",
       "      <td>1</td>\n",
       "      <td>1</td>\n",
       "      <td>71725.73</td>\n",
       "      <td>0</td>\n",
       "    </tr>\n",
       "    <tr>\n",
       "      <td>10</td>\n",
       "      <td>11</td>\n",
       "      <td>15767821</td>\n",
       "      <td>Bearce</td>\n",
       "      <td>528</td>\n",
       "      <td>France</td>\n",
       "      <td>Male</td>\n",
       "      <td>31</td>\n",
       "      <td>6.0</td>\n",
       "      <td>102016.72</td>\n",
       "      <td>2</td>\n",
       "      <td>0</td>\n",
       "      <td>0</td>\n",
       "      <td>80181.12</td>\n",
       "      <td>0</td>\n",
       "    </tr>\n",
       "    <tr>\n",
       "      <td>11</td>\n",
       "      <td>12</td>\n",
       "      <td>15737173</td>\n",
       "      <td>Andrews</td>\n",
       "      <td>497</td>\n",
       "      <td>Spain</td>\n",
       "      <td>Male</td>\n",
       "      <td>24</td>\n",
       "      <td>3.0</td>\n",
       "      <td>0.00</td>\n",
       "      <td>2</td>\n",
       "      <td>1</td>\n",
       "      <td>0</td>\n",
       "      <td>76390.01</td>\n",
       "      <td>0</td>\n",
       "    </tr>\n",
       "    <tr>\n",
       "      <td>12</td>\n",
       "      <td>13</td>\n",
       "      <td>15632264</td>\n",
       "      <td>Kay</td>\n",
       "      <td>476</td>\n",
       "      <td>France</td>\n",
       "      <td>Female</td>\n",
       "      <td>34</td>\n",
       "      <td>10.0</td>\n",
       "      <td>0.00</td>\n",
       "      <td>2</td>\n",
       "      <td>1</td>\n",
       "      <td>0</td>\n",
       "      <td>26260.98</td>\n",
       "      <td>0</td>\n",
       "    </tr>\n",
       "    <tr>\n",
       "      <td>13</td>\n",
       "      <td>14</td>\n",
       "      <td>15691483</td>\n",
       "      <td>Chin</td>\n",
       "      <td>549</td>\n",
       "      <td>France</td>\n",
       "      <td>Female</td>\n",
       "      <td>25</td>\n",
       "      <td>5.0</td>\n",
       "      <td>0.00</td>\n",
       "      <td>2</td>\n",
       "      <td>0</td>\n",
       "      <td>0</td>\n",
       "      <td>190857.79</td>\n",
       "      <td>0</td>\n",
       "    </tr>\n",
       "    <tr>\n",
       "      <td>14</td>\n",
       "      <td>15</td>\n",
       "      <td>15600882</td>\n",
       "      <td>Scott</td>\n",
       "      <td>635</td>\n",
       "      <td>Spain</td>\n",
       "      <td>Female</td>\n",
       "      <td>35</td>\n",
       "      <td>7.0</td>\n",
       "      <td>0.00</td>\n",
       "      <td>2</td>\n",
       "      <td>1</td>\n",
       "      <td>1</td>\n",
       "      <td>65951.65</td>\n",
       "      <td>0</td>\n",
       "    </tr>\n",
       "    <tr>\n",
       "      <td>15</td>\n",
       "      <td>16</td>\n",
       "      <td>15643966</td>\n",
       "      <td>Goforth</td>\n",
       "      <td>616</td>\n",
       "      <td>Germany</td>\n",
       "      <td>Male</td>\n",
       "      <td>45</td>\n",
       "      <td>3.0</td>\n",
       "      <td>143129.41</td>\n",
       "      <td>2</td>\n",
       "      <td>0</td>\n",
       "      <td>1</td>\n",
       "      <td>64327.26</td>\n",
       "      <td>0</td>\n",
       "    </tr>\n",
       "    <tr>\n",
       "      <td>16</td>\n",
       "      <td>17</td>\n",
       "      <td>15737452</td>\n",
       "      <td>Romeo</td>\n",
       "      <td>653</td>\n",
       "      <td>Germany</td>\n",
       "      <td>Male</td>\n",
       "      <td>58</td>\n",
       "      <td>1.0</td>\n",
       "      <td>132602.88</td>\n",
       "      <td>1</td>\n",
       "      <td>1</td>\n",
       "      <td>0</td>\n",
       "      <td>5097.67</td>\n",
       "      <td>1</td>\n",
       "    </tr>\n",
       "    <tr>\n",
       "      <td>17</td>\n",
       "      <td>18</td>\n",
       "      <td>15788218</td>\n",
       "      <td>Henderson</td>\n",
       "      <td>549</td>\n",
       "      <td>Spain</td>\n",
       "      <td>Female</td>\n",
       "      <td>24</td>\n",
       "      <td>9.0</td>\n",
       "      <td>0.00</td>\n",
       "      <td>2</td>\n",
       "      <td>1</td>\n",
       "      <td>1</td>\n",
       "      <td>14406.41</td>\n",
       "      <td>0</td>\n",
       "    </tr>\n",
       "    <tr>\n",
       "      <td>18</td>\n",
       "      <td>19</td>\n",
       "      <td>15661507</td>\n",
       "      <td>Muldrow</td>\n",
       "      <td>587</td>\n",
       "      <td>Spain</td>\n",
       "      <td>Male</td>\n",
       "      <td>45</td>\n",
       "      <td>6.0</td>\n",
       "      <td>0.00</td>\n",
       "      <td>1</td>\n",
       "      <td>0</td>\n",
       "      <td>0</td>\n",
       "      <td>158684.81</td>\n",
       "      <td>0</td>\n",
       "    </tr>\n",
       "    <tr>\n",
       "      <td>19</td>\n",
       "      <td>20</td>\n",
       "      <td>15568982</td>\n",
       "      <td>Hao</td>\n",
       "      <td>726</td>\n",
       "      <td>France</td>\n",
       "      <td>Female</td>\n",
       "      <td>24</td>\n",
       "      <td>6.0</td>\n",
       "      <td>0.00</td>\n",
       "      <td>2</td>\n",
       "      <td>1</td>\n",
       "      <td>1</td>\n",
       "      <td>54724.03</td>\n",
       "      <td>0</td>\n",
       "    </tr>\n",
       "  </tbody>\n",
       "</table>\n",
       "</div>"
      ],
      "text/plain": [
       "    RowNumber  CustomerId    Surname  CreditScore Geography  Gender  Age  \\\n",
       "0           1    15634602   Hargrave          619    France  Female   42   \n",
       "1           2    15647311       Hill          608     Spain  Female   41   \n",
       "2           3    15619304       Onio          502    France  Female   42   \n",
       "3           4    15701354       Boni          699    France  Female   39   \n",
       "4           5    15737888   Mitchell          850     Spain  Female   43   \n",
       "5           6    15574012        Chu          645     Spain    Male   44   \n",
       "6           7    15592531   Bartlett          822    France    Male   50   \n",
       "7           8    15656148     Obinna          376   Germany  Female   29   \n",
       "8           9    15792365         He          501    France    Male   44   \n",
       "9          10    15592389         H?          684    France    Male   27   \n",
       "10         11    15767821     Bearce          528    France    Male   31   \n",
       "11         12    15737173    Andrews          497     Spain    Male   24   \n",
       "12         13    15632264        Kay          476    France  Female   34   \n",
       "13         14    15691483       Chin          549    France  Female   25   \n",
       "14         15    15600882      Scott          635     Spain  Female   35   \n",
       "15         16    15643966    Goforth          616   Germany    Male   45   \n",
       "16         17    15737452      Romeo          653   Germany    Male   58   \n",
       "17         18    15788218  Henderson          549     Spain  Female   24   \n",
       "18         19    15661507    Muldrow          587     Spain    Male   45   \n",
       "19         20    15568982        Hao          726    France  Female   24   \n",
       "\n",
       "    Tenure    Balance  NumOfProducts  HasCrCard  IsActiveMember  \\\n",
       "0      2.0       0.00              1          1               1   \n",
       "1      1.0   83807.86              1          0               1   \n",
       "2      8.0  159660.80              3          1               0   \n",
       "3      1.0       0.00              2          0               0   \n",
       "4      2.0  125510.82              1          1               1   \n",
       "5      8.0  113755.78              2          1               0   \n",
       "6      7.0       0.00              2          1               1   \n",
       "7      4.0  115046.74              4          1               0   \n",
       "8      4.0  142051.07              2          0               1   \n",
       "9      2.0  134603.88              1          1               1   \n",
       "10     6.0  102016.72              2          0               0   \n",
       "11     3.0       0.00              2          1               0   \n",
       "12    10.0       0.00              2          1               0   \n",
       "13     5.0       0.00              2          0               0   \n",
       "14     7.0       0.00              2          1               1   \n",
       "15     3.0  143129.41              2          0               1   \n",
       "16     1.0  132602.88              1          1               0   \n",
       "17     9.0       0.00              2          1               1   \n",
       "18     6.0       0.00              1          0               0   \n",
       "19     6.0       0.00              2          1               1   \n",
       "\n",
       "    EstimatedSalary  Exited  \n",
       "0         101348.88       1  \n",
       "1         112542.58       0  \n",
       "2         113931.57       1  \n",
       "3          93826.63       0  \n",
       "4          79084.10       0  \n",
       "5         149756.71       1  \n",
       "6          10062.80       0  \n",
       "7         119346.88       1  \n",
       "8          74940.50       0  \n",
       "9          71725.73       0  \n",
       "10         80181.12       0  \n",
       "11         76390.01       0  \n",
       "12         26260.98       0  \n",
       "13        190857.79       0  \n",
       "14         65951.65       0  \n",
       "15         64327.26       0  \n",
       "16          5097.67       1  \n",
       "17         14406.41       0  \n",
       "18        158684.81       0  \n",
       "19         54724.03       0  "
      ]
     },
     "execution_count": 2,
     "metadata": {},
     "output_type": "execute_result"
    }
   ],
   "source": [
    "data = pd.read_csv('/datasets/Churn.csv')\n",
    "data.head(20)"
   ]
  },
  {
   "cell_type": "markdown",
   "metadata": {},
   "source": [
    "Удалим ненужные столбцы \"rownumber\",\"customerid\",\"surname\""
   ]
  },
  {
   "cell_type": "code",
   "execution_count": 3,
   "metadata": {},
   "outputs": [],
   "source": [
    "data = data.drop(['RowNumber','CustomerId','Surname'],axis = 1)"
   ]
  },
  {
   "cell_type": "markdown",
   "metadata": {},
   "source": [
    "## Исследование задачи"
   ]
  },
  {
   "cell_type": "markdown",
   "metadata": {},
   "source": [
    "В задаче нам необходимо исследовать баланс классов и построить модель без учёта дизбаланса классов.\n",
    "Категориальные признаки для исследования - в столбцах \"Gender\",\"HasCrCard\",\"IsActiveMember\".\n",
    "Количественные - \"Age\",\"Tenure\",\"Balance\",\"EstimatedSalary\"\n",
    "Целевой признак - столбец \"Exited\" - категориальный, принимающий значения \"0\" или \"1\", поэтому решается задача бинарной классификации."
   ]
  },
  {
   "cell_type": "code",
   "execution_count": 4,
   "metadata": {},
   "outputs": [
    {
     "name": "stdout",
     "output_type": "stream",
     "text": [
      "Male      0.5457\n",
      "Female    0.4543\n",
      "Name: Gender, dtype: float64\n",
      "1    0.7055\n",
      "0    0.2945\n",
      "Name: HasCrCard, dtype: float64\n",
      "1    0.5151\n",
      "0    0.4849\n",
      "Name: IsActiveMember, dtype: float64\n"
     ]
    }
   ],
   "source": [
    "Gender_frequency = data['Gender'].value_counts(normalize = 1)\n",
    "HasCrCard_frequency = data['HasCrCard'].value_counts(normalize = 1)\n",
    "IsActiveMember_frequency = data['IsActiveMember'].value_counts(normalize = 1)\n",
    "print(Gender_frequency)\n",
    "print(HasCrCard_frequency)\n",
    "print(IsActiveMember_frequency)"
   ]
  },
  {
   "cell_type": "markdown",
   "metadata": {},
   "source": [
    "Выведем обшую информацию о таблице"
   ]
  },
  {
   "cell_type": "code",
   "execution_count": 5,
   "metadata": {},
   "outputs": [
    {
     "name": "stdout",
     "output_type": "stream",
     "text": [
      "<class 'pandas.core.frame.DataFrame'>\n",
      "RangeIndex: 10000 entries, 0 to 9999\n",
      "Data columns (total 11 columns):\n",
      "CreditScore        10000 non-null int64\n",
      "Geography          10000 non-null object\n",
      "Gender             10000 non-null object\n",
      "Age                10000 non-null int64\n",
      "Tenure             9091 non-null float64\n",
      "Balance            10000 non-null float64\n",
      "NumOfProducts      10000 non-null int64\n",
      "HasCrCard          10000 non-null int64\n",
      "IsActiveMember     10000 non-null int64\n",
      "EstimatedSalary    10000 non-null float64\n",
      "Exited             10000 non-null int64\n",
      "dtypes: float64(3), int64(6), object(2)\n",
      "memory usage: 859.5+ KB\n"
     ]
    }
   ],
   "source": [
    "data.info()"
   ]
  },
  {
   "cell_type": "markdown",
   "metadata": {},
   "source": [
    "Видим, что в столбце \"Tenure\" присутствуют нулевые объекты. Заменим их пока на \"0\".\n",
    "Убедимся, что замена прошла."
   ]
  },
  {
   "cell_type": "code",
   "execution_count": 6,
   "metadata": {},
   "outputs": [
    {
     "name": "stdout",
     "output_type": "stream",
     "text": [
      "<class 'pandas.core.frame.DataFrame'>\n",
      "RangeIndex: 10000 entries, 0 to 9999\n",
      "Data columns (total 11 columns):\n",
      "CreditScore        10000 non-null int64\n",
      "Geography          10000 non-null object\n",
      "Gender             10000 non-null object\n",
      "Age                10000 non-null int64\n",
      "Tenure             10000 non-null float64\n",
      "Balance            10000 non-null float64\n",
      "NumOfProducts      10000 non-null int64\n",
      "HasCrCard          10000 non-null int64\n",
      "IsActiveMember     10000 non-null int64\n",
      "EstimatedSalary    10000 non-null float64\n",
      "Exited             10000 non-null int64\n",
      "dtypes: float64(3), int64(6), object(2)\n",
      "memory usage: 859.5+ KB\n"
     ]
    }
   ],
   "source": [
    "data['Tenure'] = data['Tenure'].fillna(value = 0)\n",
    "data.info()"
   ]
  },
  {
   "cell_type": "markdown",
   "metadata": {},
   "source": [
    "Преобразуем категориальные признаки столбца \"Gender\" и \"Geography\" в численные с помощью техники прямого кодирования OHE:"
   ]
  },
  {
   "cell_type": "code",
   "execution_count": 7,
   "metadata": {},
   "outputs": [],
   "source": [
    "data_ohe = pd.get_dummies(data, drop_first=True)\n",
    "target_ohe = data_ohe['Exited']\n",
    "features_ohe = data_ohe.drop('Exited', axis=1)\n",
    "features_train, features_valid, target_train,target_valid = train_test_split(features_ohe,target_ohe,test_size = 0.4,random_state = 12345,stratify = target_ohe)\n",
    "features_valid,features_test,target_valid,target_test  = train_test_split(features_valid,target_valid, test_size=0.5, random_state=12345,stratify = target_valid) \n",
    "\n"
   ]
  },
  {
   "cell_type": "markdown",
   "metadata": {},
   "source": [
    "Численные признаки приведём к одому масштабу"
   ]
  },
  {
   "cell_type": "code",
   "execution_count": 8,
   "metadata": {},
   "outputs": [
    {
     "data": {
      "text/html": [
       "<div>\n",
       "<style scoped>\n",
       "    .dataframe tbody tr th:only-of-type {\n",
       "        vertical-align: middle;\n",
       "    }\n",
       "\n",
       "    .dataframe tbody tr th {\n",
       "        vertical-align: top;\n",
       "    }\n",
       "\n",
       "    .dataframe thead th {\n",
       "        text-align: right;\n",
       "    }\n",
       "</style>\n",
       "<table border=\"1\" class=\"dataframe\">\n",
       "  <thead>\n",
       "    <tr style=\"text-align: right;\">\n",
       "      <th></th>\n",
       "      <th>CreditScore</th>\n",
       "      <th>Age</th>\n",
       "      <th>Tenure</th>\n",
       "      <th>Balance</th>\n",
       "      <th>NumOfProducts</th>\n",
       "      <th>HasCrCard</th>\n",
       "      <th>IsActiveMember</th>\n",
       "      <th>EstimatedSalary</th>\n",
       "      <th>Geography_Germany</th>\n",
       "      <th>Geography_Spain</th>\n",
       "      <th>Gender_Male</th>\n",
       "    </tr>\n",
       "  </thead>\n",
       "  <tbody>\n",
       "    <tr>\n",
       "      <td>2837</td>\n",
       "      <td>-1.040434</td>\n",
       "      <td>0.953312</td>\n",
       "      <td>0.467449</td>\n",
       "      <td>0.774657</td>\n",
       "      <td>1</td>\n",
       "      <td>0</td>\n",
       "      <td>1</td>\n",
       "      <td>-0.119110</td>\n",
       "      <td>1</td>\n",
       "      <td>0</td>\n",
       "      <td>0</td>\n",
       "    </tr>\n",
       "    <tr>\n",
       "      <td>9925</td>\n",
       "      <td>0.454006</td>\n",
       "      <td>-0.095244</td>\n",
       "      <td>-1.461501</td>\n",
       "      <td>1.910540</td>\n",
       "      <td>1</td>\n",
       "      <td>1</td>\n",
       "      <td>1</td>\n",
       "      <td>-0.258658</td>\n",
       "      <td>0</td>\n",
       "      <td>0</td>\n",
       "      <td>0</td>\n",
       "    </tr>\n",
       "    <tr>\n",
       "      <td>8746</td>\n",
       "      <td>0.103585</td>\n",
       "      <td>-0.476537</td>\n",
       "      <td>1.110432</td>\n",
       "      <td>0.481608</td>\n",
       "      <td>2</td>\n",
       "      <td>0</td>\n",
       "      <td>1</td>\n",
       "      <td>1.422836</td>\n",
       "      <td>0</td>\n",
       "      <td>0</td>\n",
       "      <td>1</td>\n",
       "    </tr>\n",
       "    <tr>\n",
       "      <td>660</td>\n",
       "      <td>-0.184996</td>\n",
       "      <td>0.190726</td>\n",
       "      <td>-1.461501</td>\n",
       "      <td>0.088439</td>\n",
       "      <td>1</td>\n",
       "      <td>1</td>\n",
       "      <td>1</td>\n",
       "      <td>-1.160427</td>\n",
       "      <td>1</td>\n",
       "      <td>0</td>\n",
       "      <td>0</td>\n",
       "    </tr>\n",
       "    <tr>\n",
       "      <td>3610</td>\n",
       "      <td>-0.720933</td>\n",
       "      <td>1.620574</td>\n",
       "      <td>-1.140009</td>\n",
       "      <td>0.879129</td>\n",
       "      <td>1</td>\n",
       "      <td>1</td>\n",
       "      <td>0</td>\n",
       "      <td>0.113236</td>\n",
       "      <td>0</td>\n",
       "      <td>0</td>\n",
       "      <td>0</td>\n",
       "    </tr>\n",
       "  </tbody>\n",
       "</table>\n",
       "</div>"
      ],
      "text/plain": [
       "      CreditScore       Age    Tenure   Balance  NumOfProducts  HasCrCard  \\\n",
       "2837    -1.040434  0.953312  0.467449  0.774657              1          0   \n",
       "9925     0.454006 -0.095244 -1.461501  1.910540              1          1   \n",
       "8746     0.103585 -0.476537  1.110432  0.481608              2          0   \n",
       "660     -0.184996  0.190726 -1.461501  0.088439              1          1   \n",
       "3610    -0.720933  1.620574 -1.140009  0.879129              1          1   \n",
       "\n",
       "      IsActiveMember  EstimatedSalary  Geography_Germany  Geography_Spain  \\\n",
       "2837               1        -0.119110                  1                0   \n",
       "9925               1        -0.258658                  0                0   \n",
       "8746               1         1.422836                  0                0   \n",
       "660                1        -1.160427                  1                0   \n",
       "3610               0         0.113236                  0                0   \n",
       "\n",
       "      Gender_Male  \n",
       "2837            0  \n",
       "9925            0  \n",
       "8746            1  \n",
       "660             0  \n",
       "3610            0  "
      ]
     },
     "execution_count": 8,
     "metadata": {},
     "output_type": "execute_result"
    }
   ],
   "source": [
    "numeric = ['CreditScore','Age','Tenure','Balance','EstimatedSalary']\n",
    "pd.options.mode.chained_assignment = None\n",
    "\n",
    "scaler = StandardScaler()\n",
    "scaler.fit(features_train[numeric])\n",
    "features_train[numeric] = scaler.transform(features_train[numeric])\n",
    "features_valid[numeric] = scaler.transform(features_valid[numeric])\n",
    "features_test[numeric] = scaler.transform(features_test[numeric])\n",
    "\n",
    "features_train.head(5)"
   ]
  },
  {
   "cell_type": "markdown",
   "metadata": {},
   "source": [
    "## Борьба с дисбалансом"
   ]
  },
  {
   "cell_type": "markdown",
   "metadata": {},
   "source": [
    "Исследуем баланс классов и обучим модель. Создадим три разных модели, сравним их F-1 меры и значения AUC-ROC. Для балансировки классов у всех моделей используем аргумент class_weight"
   ]
  },
  {
   "cell_type": "markdown",
   "metadata": {},
   "source": [
    "### Модель \"Решающее дерево\""
   ]
  },
  {
   "cell_type": "markdown",
   "metadata": {},
   "source": [
    "Выбираем лучший вариант глубины дерева с помощью сетки GridSearchCV. Создадим табличку для записи метрик:"
   ]
  },
  {
   "cell_type": "code",
   "execution_count": 9,
   "metadata": {},
   "outputs": [],
   "source": [
    "d = {'Метрика': ['F-1 мера','AUC-ROC','param']}\n",
    "total_table = pd.DataFrame(data = d)"
   ]
  },
  {
   "cell_type": "code",
   "execution_count": 10,
   "metadata": {},
   "outputs": [
    {
     "name": "stdout",
     "output_type": "stream",
     "text": [
      "{'max_depth': 6}\n",
      "F1-мера наилучшей модели на валидационной выборке: 0.575925925925926\n",
      "AUC_ROC: 0.8234124051630702\n"
     ]
    }
   ],
   "source": [
    "model = DecisionTreeClassifier(random_state = 1,class_weight = 'balanced')\n",
    "parametrs = {'max_depth': range(1,16,1)}\n",
    "grid = GridSearchCV(model,parametrs,scoring = 'f1',cv = 5)\n",
    "grid.fit(features_train,target_train)\n",
    "print(grid.best_params_)\n",
    "\n",
    "predictions_valid = grid.predict(features_valid)\n",
    "f1 = f1_score(target_valid,predictions_valid)\n",
    "probabilities_valid = grid.predict_proba(features_valid)\n",
    "probabilities_one_valid = probabilities_valid[:,1]\n",
    "auc_roc = roc_auc_score(target_valid,probabilities_one_valid)\n",
    "DesicionTree_fpr,DecisionTree_tpr,thresholds = roc_curve(target_valid,probabilities_one_valid)\n",
    "\n",
    "print(\"F1-мера наилучшей модели на валидационной выборке:\",f1)\n",
    "print(\"AUC_ROC:\",auc_roc)\n"
   ]
  },
  {
   "cell_type": "markdown",
   "metadata": {},
   "source": [
    "Запишем полученные данные в таблицу"
   ]
  },
  {
   "cell_type": "code",
   "execution_count": 11,
   "metadata": {},
   "outputs": [],
   "source": [
    "col = 'DecisionTree'\n",
    "total_table.loc[0,col] = f1\n",
    "total_table.loc[1,col]=auc_roc\n",
    "total_table.loc[2,col] = [grid.best_params_.items()]"
   ]
  },
  {
   "cell_type": "markdown",
   "metadata": {},
   "source": [
    "### Модель \"Случайный Лес\""
   ]
  },
  {
   "cell_type": "markdown",
   "metadata": {},
   "source": [
    "Для модели случайный лес будем работать с двумя параметрами n_estimators - количеством деревьев и max_depth - максимальной глубиной деревьев"
   ]
  },
  {
   "cell_type": "code",
   "execution_count": 12,
   "metadata": {},
   "outputs": [
    {
     "name": "stdout",
     "output_type": "stream",
     "text": [
      "{'max_depth': 9, 'n_estimators': 61}\n",
      "F1-мера наилучшей модели на валидационной выборке: 0.6367816091954023\n",
      "AUC_ROC: 0.869606919400926\n"
     ]
    }
   ],
   "source": [
    "model = RandomForestClassifier(random_state = 12345,class_weight = 'balanced')\n",
    "parametrs = {'n_estimators':range(1,100,20),'max_depth':range(1,12,2)}\n",
    "grid = GridSearchCV(model,parametrs,scoring = 'f1',cv = 5)\n",
    "grid.fit(features_train,target_train)\n",
    "print(grid.best_params_)\n",
    "predictions_valid = grid.predict(features_valid)\n",
    "f1 = f1_score(target_valid,predictions_valid)\n",
    "probabilities_valid = grid.predict_proba(features_valid)\n",
    "probabilities_one_valid = probabilities_valid[:,1]\n",
    "auc_roc = roc_auc_score(target_valid,probabilities_one_valid)\n",
    "RandomForest_fpr,RandomForest_tpr,thresholds = roc_curve(target_valid,probabilities_one_valid)\n",
    "print(\"F1-мера наилучшей модели на валидационной выборке:\",f1)\n",
    "print(\"AUC_ROC:\",auc_roc)"
   ]
  },
  {
   "cell_type": "markdown",
   "metadata": {},
   "source": [
    "Запишем результаты в таблицу"
   ]
  },
  {
   "cell_type": "code",
   "execution_count": 13,
   "metadata": {},
   "outputs": [],
   "source": [
    "col = 'RandomForest'\n",
    "total_table.loc[0,col] = f1\n",
    "total_table.loc[1,col] = auc_roc\n",
    "total_table.loc[2,col] = [grid.best_params_.items()]"
   ]
  },
  {
   "cell_type": "markdown",
   "metadata": {},
   "source": [
    "Сравним резулттат этой же модели без балансировки классов"
   ]
  },
  {
   "cell_type": "code",
   "execution_count": 14,
   "metadata": {},
   "outputs": [
    {
     "name": "stdout",
     "output_type": "stream",
     "text": [
      "{'max_depth': 11, 'n_estimators': 41}\n",
      "F1-мера наилучшей модели на валидационной выборке: 0.6009104704097117\n",
      "AUC_ROC: 0.867139003842743\n"
     ]
    }
   ],
   "source": [
    "model = RandomForestClassifier(random_state = 12345)\n",
    "parametrs = {'n_estimators':range(1,100,20),'max_depth':range(1,12,2)}\n",
    "grid = GridSearchCV(model,parametrs,scoring = 'f1',cv = 5)\n",
    "grid.fit(features_train,target_train)\n",
    "print(grid.best_params_)\n",
    "predictions_valid = grid.predict(features_valid)\n",
    "f1 = f1_score(target_valid,predictions_valid)\n",
    "probabilities_valid = grid.predict_proba(features_valid)\n",
    "probabilities_one_valid = probabilities_valid[:,1]\n",
    "auc_roc = roc_auc_score(target_valid,probabilities_one_valid)\n",
    "RandomForest_fpr,RandomForest_tpr,thresholds = roc_curve(target_valid,probabilities_one_valid)\n",
    "print(\"F1-мера наилучшей модели на валидационной выборке:\",f1)\n",
    "print(\"AUC_ROC:\",auc_roc)"
   ]
  },
  {
   "cell_type": "code",
   "execution_count": 15,
   "metadata": {},
   "outputs": [
    {
     "data": {
      "text/html": [
       "<div>\n",
       "<style scoped>\n",
       "    .dataframe tbody tr th:only-of-type {\n",
       "        vertical-align: middle;\n",
       "    }\n",
       "\n",
       "    .dataframe tbody tr th {\n",
       "        vertical-align: top;\n",
       "    }\n",
       "\n",
       "    .dataframe thead th {\n",
       "        text-align: right;\n",
       "    }\n",
       "</style>\n",
       "<table border=\"1\" class=\"dataframe\">\n",
       "  <thead>\n",
       "    <tr style=\"text-align: right;\">\n",
       "      <th></th>\n",
       "      <th>Метрика</th>\n",
       "      <th>DecisionTree</th>\n",
       "      <th>RandomForest</th>\n",
       "      <th>ForestnoBalance</th>\n",
       "    </tr>\n",
       "  </thead>\n",
       "  <tbody>\n",
       "    <tr>\n",
       "      <td>0</td>\n",
       "      <td>F-1 мера</td>\n",
       "      <td>0.575926</td>\n",
       "      <td>0.636782</td>\n",
       "      <td>0.60091</td>\n",
       "    </tr>\n",
       "    <tr>\n",
       "      <td>1</td>\n",
       "      <td>AUC-ROC</td>\n",
       "      <td>0.823412</td>\n",
       "      <td>0.869607</td>\n",
       "      <td>0.867139</td>\n",
       "    </tr>\n",
       "    <tr>\n",
       "      <td>2</td>\n",
       "      <td>param</td>\n",
       "      <td>((max_depth, 6))</td>\n",
       "      <td>((max_depth, 9), (n_estimators, 61))</td>\n",
       "      <td>((max_depth, 11), (n_estimators, 41))</td>\n",
       "    </tr>\n",
       "  </tbody>\n",
       "</table>\n",
       "</div>"
      ],
      "text/plain": [
       "    Метрика      DecisionTree                          RandomForest  \\\n",
       "0  F-1 мера          0.575926                              0.636782   \n",
       "1   AUC-ROC          0.823412                              0.869607   \n",
       "2     param  ((max_depth, 6))  ((max_depth, 9), (n_estimators, 61))   \n",
       "\n",
       "                         ForestnoBalance  \n",
       "0                                0.60091  \n",
       "1                               0.867139  \n",
       "2  ((max_depth, 11), (n_estimators, 41))  "
      ]
     },
     "execution_count": 15,
     "metadata": {},
     "output_type": "execute_result"
    }
   ],
   "source": [
    "col = 'ForestnoBalance'\n",
    "total_table.loc[0,col]=f1\n",
    "total_table.loc[1,col]=auc_roc\n",
    "total_table.loc[2,col]=[grid.best_params_.items()]\n",
    "total_table"
   ]
  },
  {
   "cell_type": "markdown",
   "metadata": {},
   "source": [
    "Видим, что сбалансированная модель показывает лучшие результаты."
   ]
  },
  {
   "cell_type": "markdown",
   "metadata": {},
   "source": [
    "### Модель \"Логистическая регрессия\""
   ]
  },
  {
   "cell_type": "markdown",
   "metadata": {},
   "source": [
    "Меняем параметр регуляризации \"С\", чтобы избежать переобучения модели "
   ]
  },
  {
   "cell_type": "code",
   "execution_count": 16,
   "metadata": {},
   "outputs": [
    {
     "name": "stdout",
     "output_type": "stream",
     "text": [
      "{'C': 0.0018329807108324356}\n",
      "F1-мера наилучшей модели на валидационной выборке: 0.5376146788990827\n",
      "AUC_ROC: 0.7954893955069465\n"
     ]
    }
   ],
   "source": [
    "model = LogisticRegression(random_state = 12345,solver = 'liblinear',class_weight = 'balanced')\n",
    "parameters = {'C': np.logspace(-4,4,20)}\n",
    "grid = GridSearchCV(model,parameters,scoring = 'f1',cv = 5)\n",
    "grid.fit(features_train,target_train)\n",
    "print(grid.best_params_)\n",
    "predictions_valid = grid.predict(features_valid)\n",
    "f1 = f1_score(target_valid,predictions_valid)\n",
    "probabilities_valid = grid.predict_proba(features_valid)\n",
    "probabilities_one_valid = probabilities_valid[:,1]\n",
    "auc_roc = roc_auc_score(target_valid,probabilities_one_valid)\n",
    "LogisticRegression_fpr,LogisticRegression_tpr,thresholds = roc_curve(target_valid,probabilities_one_valid)\n",
    "print(\"F1-мера наилучшей модели на валидационной выборке:\",f1)\n",
    "print(\"AUC_ROC:\",auc_roc)"
   ]
  },
  {
   "cell_type": "code",
   "execution_count": 17,
   "metadata": {},
   "outputs": [
    {
     "data": {
      "text/html": [
       "<div>\n",
       "<style scoped>\n",
       "    .dataframe tbody tr th:only-of-type {\n",
       "        vertical-align: middle;\n",
       "    }\n",
       "\n",
       "    .dataframe tbody tr th {\n",
       "        vertical-align: top;\n",
       "    }\n",
       "\n",
       "    .dataframe thead th {\n",
       "        text-align: right;\n",
       "    }\n",
       "</style>\n",
       "<table border=\"1\" class=\"dataframe\">\n",
       "  <thead>\n",
       "    <tr style=\"text-align: right;\">\n",
       "      <th></th>\n",
       "      <th>Метрика</th>\n",
       "      <th>DecisionTree</th>\n",
       "      <th>RandomForest</th>\n",
       "      <th>ForestnoBalance</th>\n",
       "      <th>LogisticRegression</th>\n",
       "    </tr>\n",
       "  </thead>\n",
       "  <tbody>\n",
       "    <tr>\n",
       "      <td>0</td>\n",
       "      <td>F-1 мера</td>\n",
       "      <td>0.575926</td>\n",
       "      <td>0.636782</td>\n",
       "      <td>0.60091</td>\n",
       "      <td>0.537615</td>\n",
       "    </tr>\n",
       "    <tr>\n",
       "      <td>1</td>\n",
       "      <td>AUC-ROC</td>\n",
       "      <td>0.823412</td>\n",
       "      <td>0.869607</td>\n",
       "      <td>0.867139</td>\n",
       "      <td>0.795489</td>\n",
       "    </tr>\n",
       "    <tr>\n",
       "      <td>2</td>\n",
       "      <td>param</td>\n",
       "      <td>((max_depth, 6))</td>\n",
       "      <td>((max_depth, 9), (n_estimators, 61))</td>\n",
       "      <td>((max_depth, 11), (n_estimators, 41))</td>\n",
       "      <td>((C, 0.0018329807108324356))</td>\n",
       "    </tr>\n",
       "  </tbody>\n",
       "</table>\n",
       "</div>"
      ],
      "text/plain": [
       "    Метрика      DecisionTree                          RandomForest  \\\n",
       "0  F-1 мера          0.575926                              0.636782   \n",
       "1   AUC-ROC          0.823412                              0.869607   \n",
       "2     param  ((max_depth, 6))  ((max_depth, 9), (n_estimators, 61))   \n",
       "\n",
       "                         ForestnoBalance            LogisticRegression  \n",
       "0                                0.60091                      0.537615  \n",
       "1                               0.867139                      0.795489  \n",
       "2  ((max_depth, 11), (n_estimators, 41))  ((C, 0.0018329807108324356))  "
      ]
     },
     "execution_count": 17,
     "metadata": {},
     "output_type": "execute_result"
    }
   ],
   "source": [
    "col = 'LogisticRegression'\n",
    "total_table.loc[0,col]=f1\n",
    "total_table.loc[1,col]=auc_roc\n",
    "total_table.loc[2,col]=[grid.best_params_.items()]\n",
    "total_table\n"
   ]
  },
  {
   "cell_type": "markdown",
   "metadata": {},
   "source": [
    "Наилучние результаты F-1 меры имеются у модели \"Случайный Лес\", F-1 мера тут равняется 0.63, худшие - у модели \"Логистическая Регрессия\", здесь значение F-1 меры всего лишь 0.53\n"
   ]
  },
  {
   "cell_type": "markdown",
   "metadata": {},
   "source": [
    "### Взвешивание классов"
   ]
  },
  {
   "cell_type": "markdown",
   "metadata": {},
   "source": [
    "Рассмотрим дизбаланс классов "
   ]
  },
  {
   "cell_type": "code",
   "execution_count": 18,
   "metadata": {},
   "outputs": [
    {
     "name": "stdout",
     "output_type": "stream",
     "text": [
      "(4778, 11)\n",
      "(1222, 11)\n",
      "(4778,)\n",
      "(1222,)\n"
     ]
    }
   ],
   "source": [
    "features_zeros = features_train[target_train == 0]\n",
    "features_ones = features_train[target_train == 1]\n",
    "target_zeros = target_train[target_train == 0]\n",
    "target_ones = target_train[target_train == 1]\n",
    "print(features_zeros.shape)\n",
    "print(features_ones.shape)\n",
    "print(target_zeros.shape)\n",
    "print(target_ones.shape)"
   ]
  },
  {
   "cell_type": "markdown",
   "metadata": {},
   "source": [
    "Мы видим, что веса несбалансированны. Их соотношение примерно 4:1. Увеличим выорку положительных объектов в 4 раза. "
   ]
  },
  {
   "cell_type": "code",
   "execution_count": 19,
   "metadata": {},
   "outputs": [],
   "source": [
    "def upsample(features,target,repeat):\n",
    "    features_zeros = features[target == 0]\n",
    "    features_ones = features[target == 1]\n",
    "    target_zeros = target[target == 0]\n",
    "    target_ones = target[target == 1]\n",
    "    \n",
    "    features_upsampled = pd.concat([features_zeros]+[features_ones]*repeat)\n",
    "    target_upsampled = pd.concat([target_zeros]+[target_ones]*repeat)\n",
    "    features_upsampled,target_upsampled = shuffle(features_upsampled,target_upsampled,random_state = 12345)\n",
    "    return features_upsampled,target_upsampled"
   ]
  },
  {
   "cell_type": "markdown",
   "metadata": {},
   "source": [
    "Ещё можно уменьшить часть отрицательных ответов, взяв только четверть от их количества."
   ]
  },
  {
   "cell_type": "code",
   "execution_count": 20,
   "metadata": {},
   "outputs": [],
   "source": [
    "def downsample(features,target,fraction):\n",
    "    features_zeros = features[target == 0]\n",
    "    features_ones = features[target == 1]\n",
    "    target_zeros = target[target == 0]\n",
    "    target_ones = target[target == 1]\n",
    "    \n",
    "    features_downsampled = pd.concat([features_zeros.sample(frac = fraction,random_state = 12345)]+[features_ones])\n",
    "    target_downsampled = pd.concat([target_zeros.sample(frac = fraction,random_state = 12345)]+[target_ones])\n",
    "    features_downsampled,target_downsampled = shuffle(features_downsampled,target_downsampled,random_state = 12345)\n",
    "    return features_downsampled,target_downsampled"
   ]
  },
  {
   "cell_type": "code",
   "execution_count": 21,
   "metadata": {},
   "outputs": [],
   "source": [
    "features_upsampled,target_upsampled = upsample(features_train,target_train,4)\n",
    "features_downsampled,target_downsampled = downsample(features_train, target_train, 0.25)\n"
   ]
  },
  {
   "cell_type": "markdown",
   "metadata": {},
   "source": [
    "Рассмотрим диаграмму весов класов после выравнивания"
   ]
  },
  {
   "cell_type": "code",
   "execution_count": 22,
   "metadata": {},
   "outputs": [
    {
     "name": "stdout",
     "output_type": "stream",
     "text": [
      "1    0.50569\n",
      "0    0.49431\n",
      "Name: Exited, dtype: float64\n"
     ]
    },
    {
     "data": {
      "text/plain": [
       "<matplotlib.axes._subplots.AxesSubplot at 0x7fa7d3c42890>"
      ]
     },
     "execution_count": 22,
     "metadata": {},
     "output_type": "execute_result"
    },
    {
     "data": {
      "image/png": "[encoded data removed]",
      "text/plain": [
       "<Figure size 216x216 with 1 Axes>"
      ]
     },
     "metadata": {
      "needs_background": "light"
     },
     "output_type": "display_data"
    }
   ],
   "source": [
    "class_frequency = target_upsampled.value_counts(normalize = True)\n",
    "print(class_frequency)\n",
    "plt.figure(figsize = (3,3))\n",
    "plt.title('Увеличение выборки')\n",
    "class_frequency.plot(kind = 'bar')"
   ]
  },
  {
   "cell_type": "code",
   "execution_count": 23,
   "metadata": {},
   "outputs": [
    {
     "name": "stdout",
     "output_type": "stream",
     "text": [
      "1    0.505795\n",
      "0    0.494205\n",
      "Name: Exited, dtype: float64\n"
     ]
    },
    {
     "data": {
      "text/plain": [
       "<matplotlib.axes._subplots.AxesSubplot at 0x7fa7d3c5ab50>"
      ]
     },
     "execution_count": 23,
     "metadata": {},
     "output_type": "execute_result"
    },
    {
     "data": {
      "image/png": "[encoded data removed]",
      "text/plain": [
       "<Figure size 216x216 with 1 Axes>"
      ]
     },
     "metadata": {
      "needs_background": "light"
     },
     "output_type": "display_data"
    }
   ],
   "source": [
    "class_frequency = target_downsampled.value_counts(normalize = True)\n",
    "print(class_frequency)\n",
    "plt.figure(figsize = (3,3))\n",
    "plt.title('Уменьшение выборки')\n",
    "class_frequency.plot(kind = 'bar')"
   ]
  },
  {
   "cell_type": "markdown",
   "metadata": {},
   "source": [
    "### Модель \"Решающее Дерево\""
   ]
  },
  {
   "cell_type": "code",
   "execution_count": 24,
   "metadata": {},
   "outputs": [
    {
     "name": "stdout",
     "output_type": "stream",
     "text": [
      "{'max_depth': 15}\n",
      "F1-мера наилучшей модели на валидационной выборке: 0.5116279069767441\n",
      "AUC_ROC: 0.699654830525175\n"
     ]
    }
   ],
   "source": [
    "model = DecisionTreeClassifier(random_state = 12345)\n",
    "parameters = {'max_depth':range(1,16,1)}\n",
    "grid = GridSearchCV(model,parameters,scoring = 'f1',cv = None)\n",
    "grid.fit(features_upsampled,target_upsampled)\n",
    "print(grid.best_params_)\n",
    "predictions_valid = grid.predict(features_valid)\n",
    "f1 = f1_score(target_valid, predictions_valid)\n",
    "probabilities_valid = grid.predict_proba(features_valid)\n",
    "probabilities_one_valid = probabilities_valid[:,1]\n",
    "auc_roc = roc_auc_score(target_valid,probabilities_one_valid)\n",
    "print(\"F1-мера наилучшей модели на валидационной выборке:\",f1)\n",
    "print(\"AUC_ROC:\",auc_roc)"
   ]
  },
  {
   "cell_type": "code",
   "execution_count": 25,
   "metadata": {},
   "outputs": [],
   "source": [
    "col = 'DecisionTreeUp'\n",
    "total_table.loc[0,col]=f1\n",
    "total_table.loc[1,col]=auc_roc\n",
    "total_table.loc[2,col]=[grid.best_params_.items()]"
   ]
  },
  {
   "cell_type": "code",
   "execution_count": 26,
   "metadata": {},
   "outputs": [
    {
     "name": "stdout",
     "output_type": "stream",
     "text": [
      "{'max_depth': 4}\n",
      "F1-мера наилучшей модели на валидационной выборке: 0.560931899641577\n",
      "AUC_ROC: 0.8212331572076066\n"
     ]
    }
   ],
   "source": [
    "model = DecisionTreeClassifier(random_state = 12345)\n",
    "parameters = {'max_depth':range(1,16,1)}\n",
    "grid = GridSearchCV(model,parameters,scoring = 'f1',cv = None)\n",
    "grid.fit(features_downsampled,target_downsampled)\n",
    "print(grid.best_params_)\n",
    "predictions_valid = grid.predict(features_valid)\n",
    "f1 = f1_score(target_valid, predictions_valid)\n",
    "probabilities_valid = grid.predict_proba(features_valid)\n",
    "probabilities_one_valid = probabilities_valid[:,1]\n",
    "auc_roc = roc_auc_score(target_valid,probabilities_one_valid)\n",
    "DecisionTree_fpr,DecisionTree_tpr,thresholds = roc_curve(target_valid,probabilities_one_valid)\n",
    "print(\"F1-мера наилучшей модели на валидационной выборке:\",f1)\n",
    "print(\"AUC_ROC:\",auc_roc)"
   ]
  },
  {
   "cell_type": "code",
   "execution_count": 27,
   "metadata": {},
   "outputs": [],
   "source": [
    "col = 'DecisionTreeDown'\n",
    "total_table.loc[0,col]=f1\n",
    "total_table.loc[1,col]=auc_roc\n",
    "total_table.loc[2,col]=[grid.best_params_.items()]"
   ]
  },
  {
   "cell_type": "markdown",
   "metadata": {},
   "source": [
    "### Модель \"Случайный Лес\""
   ]
  },
  {
   "cell_type": "code",
   "execution_count": 28,
   "metadata": {},
   "outputs": [
    {
     "name": "stdout",
     "output_type": "stream",
     "text": [
      "{'max_depth': 11, 'n_estimators': 81}\n",
      "F1-мера наилучшей модели на валидационной выборке: 0.6286379511059371\n",
      "AUC_ROC: 0.8678472016947484\n"
     ]
    }
   ],
   "source": [
    "model = RandomForestClassifier(random_state = 12345,class_weight = 'balanced')\n",
    "parametrs = {'n_estimators':range(1,100,20),'max_depth':range(1,12,2)}\n",
    "grid = GridSearchCV(model,parametrs,scoring = 'f1',cv = 5)\n",
    "grid.fit(features_upsampled,target_upsampled)\n",
    "print(grid.best_params_)\n",
    "predictions_valid = grid.predict(features_valid)\n",
    "f1 = f1_score(target_valid,predictions_valid)\n",
    "probabilities_valid = grid.predict_proba(features_valid)\n",
    "probabilities_one_valid = probabilities_valid[:,1]\n",
    "auc_roc = roc_auc_score(target_valid,probabilities_one_valid)\n",
    "RandomForest_fpr,RandomForest_tpr,thresholds = roc_curve(target_valid,probabilities_one_valid)\n",
    "print(\"F1-мера наилучшей модели на валидационной выборке:\",f1)\n",
    "print(\"AUC_ROC:\",auc_roc)"
   ]
  },
  {
   "cell_type": "code",
   "execution_count": 29,
   "metadata": {},
   "outputs": [],
   "source": [
    "col = 'RandomForestUp'\n",
    "total_table.loc[0,col]=f1\n",
    "total_table.loc[1,col]=auc_roc\n",
    "total_table.loc[2,col]=[grid.best_params_.items()]"
   ]
  },
  {
   "cell_type": "code",
   "execution_count": 30,
   "metadata": {},
   "outputs": [
    {
     "name": "stdout",
     "output_type": "stream",
     "text": [
      "{'max_depth': 9, 'n_estimators': 81}\n",
      "F1-мера наилучшей модели на валидационной выборке: 0.6236766121270452\n",
      "AUC_ROC: 0.8686647083456498\n"
     ]
    }
   ],
   "source": [
    "model = RandomForestClassifier(random_state = 12345,class_weight = 'balanced')\n",
    "parametrs = {'n_estimators':range(1,100,20),'max_depth':range(1,12,2)}\n",
    "grid = GridSearchCV(model,parametrs,scoring = 'f1',cv = 5)\n",
    "grid.fit(features_downsampled,target_downsampled)\n",
    "print(grid.best_params_)\n",
    "predictions_valid = grid.predict(features_valid)\n",
    "f1 = f1_score(target_valid,predictions_valid)\n",
    "probabilities_valid = grid.predict_proba(features_valid)\n",
    "probabilities_one_valid = probabilities_valid[:,1]\n",
    "auc_roc = roc_auc_score(target_valid,probabilities_one_valid)\n",
    "RandomForest_fpr,RandomForest_tpr,thresholds = roc_curve(target_valid,probabilities_one_valid)\n",
    "print(\"F1-мера наилучшей модели на валидационной выборке:\",f1)\n",
    "print(\"AUC_ROC:\",auc_roc)"
   ]
  },
  {
   "cell_type": "code",
   "execution_count": 31,
   "metadata": {},
   "outputs": [
    {
     "data": {
      "text/html": [
       "<div>\n",
       "<style scoped>\n",
       "    .dataframe tbody tr th:only-of-type {\n",
       "        vertical-align: middle;\n",
       "    }\n",
       "\n",
       "    .dataframe tbody tr th {\n",
       "        vertical-align: top;\n",
       "    }\n",
       "\n",
       "    .dataframe thead th {\n",
       "        text-align: right;\n",
       "    }\n",
       "</style>\n",
       "<table border=\"1\" class=\"dataframe\">\n",
       "  <thead>\n",
       "    <tr style=\"text-align: right;\">\n",
       "      <th></th>\n",
       "      <th>Метрика</th>\n",
       "      <th>DecisionTree</th>\n",
       "      <th>RandomForest</th>\n",
       "      <th>ForestnoBalance</th>\n",
       "      <th>LogisticRegression</th>\n",
       "      <th>DecisionTreeUp</th>\n",
       "      <th>DecisionTreeDown</th>\n",
       "      <th>RandomForestUp</th>\n",
       "      <th>RandomForestDown</th>\n",
       "    </tr>\n",
       "  </thead>\n",
       "  <tbody>\n",
       "    <tr>\n",
       "      <td>0</td>\n",
       "      <td>F-1 мера</td>\n",
       "      <td>0.575926</td>\n",
       "      <td>0.636782</td>\n",
       "      <td>0.60091</td>\n",
       "      <td>0.537615</td>\n",
       "      <td>0.511628</td>\n",
       "      <td>0.560932</td>\n",
       "      <td>0.628638</td>\n",
       "      <td>0.623677</td>\n",
       "    </tr>\n",
       "    <tr>\n",
       "      <td>1</td>\n",
       "      <td>AUC-ROC</td>\n",
       "      <td>0.823412</td>\n",
       "      <td>0.869607</td>\n",
       "      <td>0.867139</td>\n",
       "      <td>0.795489</td>\n",
       "      <td>0.699655</td>\n",
       "      <td>0.821233</td>\n",
       "      <td>0.867847</td>\n",
       "      <td>0.868665</td>\n",
       "    </tr>\n",
       "    <tr>\n",
       "      <td>2</td>\n",
       "      <td>param</td>\n",
       "      <td>((max_depth, 6))</td>\n",
       "      <td>((max_depth, 9), (n_estimators, 61))</td>\n",
       "      <td>((max_depth, 11), (n_estimators, 41))</td>\n",
       "      <td>((C, 0.0018329807108324356))</td>\n",
       "      <td>((max_depth, 15))</td>\n",
       "      <td>((max_depth, 4))</td>\n",
       "      <td>((max_depth, 11), (n_estimators, 81))</td>\n",
       "      <td>((max_depth, 9), (n_estimators, 81))</td>\n",
       "    </tr>\n",
       "  </tbody>\n",
       "</table>\n",
       "</div>"
      ],
      "text/plain": [
       "    Метрика      DecisionTree                          RandomForest  \\\n",
       "0  F-1 мера          0.575926                              0.636782   \n",
       "1   AUC-ROC          0.823412                              0.869607   \n",
       "2     param  ((max_depth, 6))  ((max_depth, 9), (n_estimators, 61))   \n",
       "\n",
       "                         ForestnoBalance            LogisticRegression  \\\n",
       "0                                0.60091                      0.537615   \n",
       "1                               0.867139                      0.795489   \n",
       "2  ((max_depth, 11), (n_estimators, 41))  ((C, 0.0018329807108324356))   \n",
       "\n",
       "      DecisionTreeUp  DecisionTreeDown                         RandomForestUp  \\\n",
       "0           0.511628          0.560932                               0.628638   \n",
       "1           0.699655          0.821233                               0.867847   \n",
       "2  ((max_depth, 15))  ((max_depth, 4))  ((max_depth, 11), (n_estimators, 81))   \n",
       "\n",
       "                       RandomForestDown  \n",
       "0                              0.623677  \n",
       "1                              0.868665  \n",
       "2  ((max_depth, 9), (n_estimators, 81))  "
      ]
     },
     "execution_count": 31,
     "metadata": {},
     "output_type": "execute_result"
    }
   ],
   "source": [
    "col = 'RandomForestDown'\n",
    "total_table.loc[0,col]=f1\n",
    "total_table.loc[1,col]=auc_roc\n",
    "total_table.loc[2,col]=[grid.best_params_.items()]\n",
    "total_table"
   ]
  },
  {
   "cell_type": "markdown",
   "metadata": {},
   "source": []
  },
  {
   "cell_type": "markdown",
   "metadata": {},
   "source": [
    "### ROC-кривые"
   ]
  },
  {
   "cell_type": "markdown",
   "metadata": {},
   "source": [
    "Для сравнения с базовой моделью создадим dummy-модель средствами библиотеки sklearn, стратегию зададим most_frequent"
   ]
  },
  {
   "cell_type": "code",
   "execution_count": 32,
   "metadata": {},
   "outputs": [],
   "source": [
    "dummy_model = DummyClassifier(strategy = \"most_frequent\",random_state = 12345)\n",
    "dummy_model.fit(features_train,target_train)\n",
    "probabilities_test = dummy_model.predict_proba(features_test)\n",
    "probabilities_one_test = probabilities_test[:, 1]\n",
    "dummy_fpr,dummy_tpr,dummy_thresholds = roc_curve(target_test, probabilities_one_test)\n"
   ]
  },
  {
   "cell_type": "code",
   "execution_count": 33,
   "metadata": {},
   "outputs": [
    {
     "data": {
      "image/png": "[encoded data removed]",
      "text/plain": [
       "<Figure size 432x288 with 1 Axes>"
      ]
     },
     "metadata": {
      "needs_background": "light"
     },
     "output_type": "display_data"
    }
   ],
   "source": [
    "plt.plot(dummy_fpr,dummy_tpr)\n",
    "plt.plot(DecisionTree_fpr,DecisionTree_tpr)\n",
    "plt.plot(RandomForest_fpr,RandomForest_tpr)\n",
    "plt.plot(LogisticRegression_fpr,LogisticRegression_tpr)\n",
    "plt.xlabel('False Positive Rate')\n",
    "plt.ylabel('True Positive Rate')\n",
    "plt.title('ROC-кривая')\n",
    "plt.show()"
   ]
  },
  {
   "cell_type": "markdown",
   "metadata": {},
   "source": [
    "Лучше всех кривая у RandomForest с параметрами max_depth = 11, n_estimators = 81"
   ]
  },
  {
   "cell_type": "markdown",
   "metadata": {},
   "source": [
    "## Тестирование модели"
   ]
  },
  {
   "cell_type": "markdown",
   "metadata": {},
   "source": [
    "Протестируем модель на найденных параметрах в качестве обучающей возьмём тестовую валидационную выборку"
   ]
  },
  {
   "cell_type": "code",
   "execution_count": 34,
   "metadata": {},
   "outputs": [
    {
     "name": "stdout",
     "output_type": "stream",
     "text": [
      "F1-мера: 0.5901639344262296\n",
      "AUC_ROC: 0.8531335649979719\n"
     ]
    }
   ],
   "source": [
    "model = RandomForestClassifier(random_state = 12345, max_depth = 11, n_estimators = 61, class_weight = 'balanced')\n",
    "model.fit(features_train.append(features_valid),target_train.append(target_valid))\n",
    "predicted_test = model.predict(features_test)\n",
    "probabilities_test = model.predict_proba(features_test)\n",
    "probabilities_one_test = probabilities_test[:,1]\n",
    "auc_roc = roc_auc_score(target_test, probabilities_one_test)\n",
    "print(\"F1-мера:\",f1_score(target_test,predicted_test))\n",
    "print(\"AUC_ROC:\",auc_roc)"
   ]
  },
  {
   "cell_type": "markdown",
   "metadata": {},
   "source": [
    "Построим ROC-кривую тестирования"
   ]
  },
  {
   "cell_type": "code",
   "execution_count": 35,
   "metadata": {},
   "outputs": [
    {
     "data": {
      "image/png": "[encoded data removed]",
      "text/plain": [
       "<Figure size 432x288 with 1 Axes>"
      ]
     },
     "metadata": {
      "needs_background": "light"
     },
     "output_type": "display_data"
    }
   ],
   "source": [
    "fpr,tpr,thresholds = roc_curve(target_test,probabilities_one_test)\n",
    "plt.plot(fpr,tpr)\n",
    "plt.plot(dummy_fpr,dummy_tpr)\n",
    "\n",
    "plt.xlabel('False Positive Rate')\n",
    "plt.ylabel('True Positive Rate')\n",
    "plt.title('ROC-кривая')\n",
    "plt.show()"
   ]
  },
  {
   "cell_type": "markdown",
   "metadata": {},
   "source": [
    "AUC-ROC случайной модели равна 0.5, а наша 0.85, то есть модель адекватна и достаточно точна в предсказаниях."
   ]
  },
  {
   "cell_type": "markdown",
   "metadata": {},
   "source": [
    "## Вывод"
   ]
  },
  {
   "cell_type": "markdown",
   "metadata": {},
   "source": [
    "Мы исследовали баланс классов, построили, обучили и протестировали три модели  - решающее дерево, случайный лес и логистическую регрессию, а так же измерили F-1 меру и AUC-ROC.\n",
    "\n",
    "Категориальные признаки перевели в численные с помощью OHE-Hot Encoding, а численные привели к одному масштабу.\n",
    "Целе вой признак в данных распределен в отношении 4:1, что мешает обучению модели.\n",
    "Для борьбы с дизбалансом мы попробовали балансировку классов с помощью аргумента class_weight и функцию уменьшения и увеличения выборкию\n",
    "Максимально большое значение F-1 меры показала функция увеличения выборки на модели \"Случайный Лес\".\n",
    "Удалось добиться результата F-1 более 0.59, а значения AUC-ROC - 0.85, значения метрик и построенный график ROC-кривой говорят о том, что наша модель адекватная и предсказывает тоже хорошо."
   ]
  },
  {
   "cell_type": "markdown",
   "metadata": {},
   "source": [
    "##  Чек-лист готовности проекта"
   ]
  },
  {
   "cell_type": "markdown",
   "metadata": {},
   "source": [
    "- [x]  Jupyter Notebook открыт\n",
    "- [x]  Весь код выполняется без ошибок\n",
    "- [x]  Ячейки с кодом расположены в порядке исполнения\n",
    "- [x]  Выполнен шаг 1: данные подготовлены\n",
    "- [x]  Выполнен шаг 2: задача исследована\n",
    "    - [x]  Исследован баланс классов\n",
    "    - [x]  Изучены модели без учёта дисбаланса\n",
    "    - [x]  Написаны выводы по результатам исследования\n",
    "- [x]  Выполнен шаг 3: учтён дисбаланс\n",
    "    - [x]  Применено несколько способов борьбы с дисбалансом\n",
    "    - [x]  Написаны выводы по результатам исследования\n",
    "- [x]  Выполнен шаг 4: проведено тестирование\n",
    "- [x]  Удалось достичь *F1*-меры не менее 0.59\n",
    "- [x]  Исследована метрика *AUC-ROC*"
   ]
  }
 ],
 "metadata": {
  "ExecuteTimeLog": [
   {
    "duration": 483,
    "start_time": "2021-08-04T13:43:17.319Z"
   },
   {
    "duration": 1797,
    "start_time": "2021-08-04T13:43:21.682Z"
   },
   {
    "duration": 52,
    "start_time": "2021-08-04T13:43:23.482Z"
   },
   {
    "duration": 78,
    "start_time": "2021-08-04T13:44:04.894Z"
   },
   {
    "duration": 614,
    "start_time": "2021-08-04T13:51:09.654Z"
   },
   {
    "duration": 1050,
    "start_time": "2021-08-07T19:25:08.036Z"
   },
   {
    "duration": 49,
    "start_time": "2021-08-07T19:25:09.089Z"
   },
   {
    "duration": 7,
    "start_time": "2021-08-07T19:25:09.140Z"
   },
   {
    "duration": 288,
    "start_time": "2021-08-07T19:27:13.412Z"
   },
   {
    "duration": 8,
    "start_time": "2021-08-07T19:27:20.623Z"
   },
   {
    "duration": 11,
    "start_time": "2021-08-07T19:28:59.421Z"
   },
   {
    "duration": 1420,
    "start_time": "2021-08-11T07:04:11.198Z"
   },
   {
    "duration": 71,
    "start_time": "2021-08-11T07:04:12.621Z"
   },
   {
    "duration": 16,
    "start_time": "2021-08-11T07:04:12.695Z"
   },
   {
    "duration": 3,
    "start_time": "2021-08-11T07:04:12.714Z"
   },
   {
    "duration": 36,
    "start_time": "2021-08-11T07:04:12.719Z"
   },
   {
    "duration": 10,
    "start_time": "2021-08-11T07:04:29.598Z"
   },
   {
    "duration": 378,
    "start_time": "2021-08-11T07:06:35.677Z"
   },
   {
    "duration": 1301,
    "start_time": "2021-08-13T06:01:37.899Z"
   },
   {
    "duration": 65,
    "start_time": "2021-08-13T06:01:39.203Z"
   },
   {
    "duration": 16,
    "start_time": "2021-08-13T06:01:39.271Z"
   },
   {
    "duration": 3,
    "start_time": "2021-08-13T06:01:39.290Z"
   },
   {
    "duration": 12,
    "start_time": "2021-08-13T06:01:39.295Z"
   },
   {
    "duration": 1059,
    "start_time": "2021-08-13T06:01:39.310Z"
   },
   {
    "duration": 4,
    "start_time": "2021-08-13T06:03:01.817Z"
   },
   {
    "duration": 4,
    "start_time": "2021-08-13T06:03:05.122Z"
   },
   {
    "duration": 53,
    "start_time": "2021-08-13T06:03:05.133Z"
   },
   {
    "duration": 14,
    "start_time": "2021-08-13T06:03:05.189Z"
   },
   {
    "duration": 3,
    "start_time": "2021-08-13T06:03:05.206Z"
   },
   {
    "duration": 15,
    "start_time": "2021-08-13T06:03:05.211Z"
   },
   {
    "duration": 1255,
    "start_time": "2021-08-13T06:03:05.228Z"
   },
   {
    "duration": 1277,
    "start_time": "2021-08-13T06:04:03.932Z"
   },
   {
    "duration": 714,
    "start_time": "2021-08-13T06:07:01.920Z"
   },
   {
    "duration": 6684,
    "start_time": "2021-08-13T06:07:49.203Z"
   },
   {
    "duration": 6623,
    "start_time": "2021-08-13T06:09:24.111Z"
   },
   {
    "duration": 1181,
    "start_time": "2021-08-13T06:15:11.613Z"
   },
   {
    "duration": 1264,
    "start_time": "2021-08-13T06:16:02.976Z"
   },
   {
    "duration": 1316,
    "start_time": "2021-08-13T06:17:22.781Z"
   },
   {
    "duration": 67,
    "start_time": "2021-08-13T06:17:27.826Z"
   },
   {
    "duration": 21,
    "start_time": "2021-08-13T06:17:31.213Z"
   },
   {
    "duration": 1509,
    "start_time": "2021-08-13T06:17:35.634Z"
   },
   {
    "duration": 14,
    "start_time": "2021-08-13T06:21:17.924Z"
   },
   {
    "duration": 8798,
    "start_time": "2021-08-13T06:26:04.264Z"
   },
   {
    "duration": 12,
    "start_time": "2021-08-13T06:26:28.475Z"
   },
   {
    "duration": 17,
    "start_time": "2021-08-13T06:26:49.858Z"
   },
   {
    "duration": 10,
    "start_time": "2021-08-13T06:27:08.609Z"
   },
   {
    "duration": 14,
    "start_time": "2021-08-13T06:27:11.015Z"
   },
   {
    "duration": 12,
    "start_time": "2021-08-13T06:27:21.689Z"
   },
   {
    "duration": 16,
    "start_time": "2021-08-13T06:27:27.195Z"
   },
   {
    "duration": 6,
    "start_time": "2021-08-13T06:29:52.270Z"
   },
   {
    "duration": 15,
    "start_time": "2021-08-13T06:29:56.695Z"
   },
   {
    "duration": 16,
    "start_time": "2021-08-13T06:30:31.090Z"
   },
   {
    "duration": 1028,
    "start_time": "2021-08-13T06:31:02.667Z"
   },
   {
    "duration": 1045,
    "start_time": "2021-08-13T06:31:17.229Z"
   },
   {
    "duration": 1946,
    "start_time": "2021-08-13T06:33:27.353Z"
   },
   {
    "duration": 5,
    "start_time": "2021-08-13T06:33:36.507Z"
   },
   {
    "duration": 1276,
    "start_time": "2021-08-13T06:33:41.187Z"
   },
   {
    "duration": 2063,
    "start_time": "2021-08-13T06:35:16.275Z"
   },
   {
    "duration": 4,
    "start_time": "2021-08-13T06:42:52.506Z"
   },
   {
    "duration": 2058,
    "start_time": "2021-08-13T06:43:58.788Z"
   },
   {
    "duration": 8278,
    "start_time": "2021-08-13T06:58:09.130Z"
   },
   {
    "duration": 8293,
    "start_time": "2021-08-13T06:58:40.687Z"
   },
   {
    "duration": 7933,
    "start_time": "2021-08-13T07:00:50.630Z"
   },
   {
    "duration": 10484,
    "start_time": "2021-08-13T07:02:39.171Z"
   },
   {
    "duration": 55281,
    "start_time": "2021-08-13T07:03:11.557Z"
   },
   {
    "duration": 5109,
    "start_time": "2021-08-13T07:07:57.363Z"
   },
   {
    "duration": 11470,
    "start_time": "2021-08-13T07:10:02.006Z"
   },
   {
    "duration": 17702,
    "start_time": "2021-08-13T07:13:52.798Z"
   },
   {
    "duration": 63,
    "start_time": "2021-08-13T16:10:46.652Z"
   },
   {
    "duration": 215,
    "start_time": "2021-08-13T16:11:23.477Z"
   },
   {
    "duration": 1272,
    "start_time": "2021-08-13T16:11:37.909Z"
   },
   {
    "duration": 4,
    "start_time": "2021-08-13T16:12:14.737Z"
   },
   {
    "duration": 197,
    "start_time": "2021-08-13T16:12:19.869Z"
   },
   {
    "duration": 171,
    "start_time": "2021-08-13T16:12:26.635Z"
   },
   {
    "duration": 189,
    "start_time": "2021-08-13T16:13:02.197Z"
   },
   {
    "duration": 48,
    "start_time": "2021-08-13T16:13:19.037Z"
   },
   {
    "duration": 980,
    "start_time": "2021-08-13T16:13:27.242Z"
   },
   {
    "duration": 49,
    "start_time": "2021-08-13T16:13:28.223Z"
   },
   {
    "duration": 13,
    "start_time": "2021-08-13T16:13:28.274Z"
   },
   {
    "duration": 8,
    "start_time": "2021-08-13T16:13:28.288Z"
   },
   {
    "duration": 2,
    "start_time": "2021-08-13T16:13:28.298Z"
   },
   {
    "duration": 9,
    "start_time": "2021-08-13T16:13:28.302Z"
   },
   {
    "duration": 2,
    "start_time": "2021-08-13T16:13:28.313Z"
   },
   {
    "duration": 1770,
    "start_time": "2021-08-13T16:13:28.317Z"
   },
   {
    "duration": 4476,
    "start_time": "2021-08-13T16:13:30.089Z"
   },
   {
    "duration": 398107,
    "start_time": "2021-08-13T16:13:34.567Z"
   },
   {
    "duration": 28419,
    "start_time": "2021-08-13T16:19:44.552Z"
   },
   {
    "duration": 192,
    "start_time": "2021-08-13T16:20:35.273Z"
   },
   {
    "duration": 381,
    "start_time": "2021-08-13T16:23:05.030Z"
   },
   {
    "duration": 257,
    "start_time": "2021-08-14T06:10:58.531Z"
   },
   {
    "duration": 1309,
    "start_time": "2021-08-14T06:11:43.691Z"
   },
   {
    "duration": 63,
    "start_time": "2021-08-14T06:11:45.003Z"
   },
   {
    "duration": 598,
    "start_time": "2021-08-14T06:11:45.069Z"
   },
   {
    "duration": 30485,
    "start_time": "2021-08-14T06:11:15.185Z"
   },
   {
    "duration": 30483,
    "start_time": "2021-08-14T06:11:15.189Z"
   },
   {
    "duration": 30479,
    "start_time": "2021-08-14T06:11:15.194Z"
   },
   {
    "duration": 30478,
    "start_time": "2021-08-14T06:11:15.197Z"
   },
   {
    "duration": 30475,
    "start_time": "2021-08-14T06:11:15.201Z"
   },
   {
    "duration": 30472,
    "start_time": "2021-08-14T06:11:15.205Z"
   },
   {
    "duration": 30470,
    "start_time": "2021-08-14T06:11:15.209Z"
   },
   {
    "duration": 30467,
    "start_time": "2021-08-14T06:11:15.213Z"
   },
   {
    "duration": 30465,
    "start_time": "2021-08-14T06:11:15.217Z"
   },
   {
    "duration": 278,
    "start_time": "2021-08-14T06:12:45.910Z"
   },
   {
    "duration": 6,
    "start_time": "2021-08-14T06:12:56.992Z"
   },
   {
    "duration": 21,
    "start_time": "2021-08-14T06:13:00.544Z"
   },
   {
    "duration": 11,
    "start_time": "2021-08-14T06:13:02.329Z"
   },
   {
    "duration": 12,
    "start_time": "2021-08-14T06:13:05.038Z"
   },
   {
    "duration": 327,
    "start_time": "2021-08-14T06:13:09.153Z"
   },
   {
    "duration": 301,
    "start_time": "2021-08-14T06:15:06.803Z"
   },
   {
    "duration": 38,
    "start_time": "2021-08-14T06:15:47.723Z"
   },
   {
    "duration": 313,
    "start_time": "2021-08-14T06:16:02.529Z"
   },
   {
    "duration": 260,
    "start_time": "2021-08-14T06:16:45.907Z"
   },
   {
    "duration": 53,
    "start_time": "2021-08-14T06:17:05.560Z"
   },
   {
    "duration": 5,
    "start_time": "2021-08-14T06:31:59.736Z"
   },
   {
    "duration": 240,
    "start_time": "2021-08-14T06:56:18.891Z"
   },
   {
    "duration": 5,
    "start_time": "2021-08-14T06:56:59.339Z"
   },
   {
    "duration": 2266,
    "start_time": "2021-08-14T06:57:04.835Z"
   },
   {
    "duration": 101,
    "start_time": "2021-08-14T06:58:30.562Z"
   },
   {
    "duration": 91,
    "start_time": "2021-08-14T06:58:30.894Z"
   },
   {
    "duration": 6,
    "start_time": "2021-08-14T06:59:47.788Z"
   },
   {
    "duration": 1786,
    "start_time": "2021-08-14T06:59:52.740Z"
   },
   {
    "duration": 9,
    "start_time": "2021-08-14T07:01:34.280Z"
   },
   {
    "duration": 33275,
    "start_time": "2021-08-14T07:07:13.493Z"
   },
   {
    "duration": 30690,
    "start_time": "2021-08-14T07:09:14.324Z"
   },
   {
    "duration": 30834,
    "start_time": "2021-08-14T07:10:03.165Z"
   },
   {
    "duration": 9,
    "start_time": "2021-08-14T07:11:50.358Z"
   },
   {
    "duration": 30687,
    "start_time": "2021-08-14T07:13:41.469Z"
   },
   {
    "duration": 19,
    "start_time": "2021-08-14T07:23:15.714Z"
   },
   {
    "duration": 31190,
    "start_time": "2021-08-14T07:23:54.468Z"
   },
   {
    "duration": 17,
    "start_time": "2021-08-14T07:25:30.505Z"
   },
   {
    "duration": 254,
    "start_time": "2021-08-14T07:30:17.214Z"
   },
   {
    "duration": 30425,
    "start_time": "2021-08-14T07:30:30.424Z"
   },
   {
    "duration": 235,
    "start_time": "2021-08-14T07:31:00.852Z"
   },
   {
    "duration": 7,
    "start_time": "2021-08-14T07:31:13.808Z"
   },
   {
    "duration": 264,
    "start_time": "2021-08-14T07:31:23.771Z"
   },
   {
    "duration": 19935,
    "start_time": "2021-08-14T07:31:38.850Z"
   },
   {
    "duration": 21,
    "start_time": "2021-08-14T07:32:15.802Z"
   },
   {
    "duration": 13,
    "start_time": "2021-08-14T07:41:05.256Z"
   },
   {
    "duration": 6,
    "start_time": "2021-08-14T07:47:33.139Z"
   },
   {
    "duration": 533,
    "start_time": "2021-08-14T07:48:49.492Z"
   },
   {
    "duration": 5,
    "start_time": "2021-08-14T07:50:27.326Z"
   },
   {
    "duration": 530,
    "start_time": "2021-08-14T07:50:30.261Z"
   },
   {
    "duration": 6,
    "start_time": "2021-08-14T07:51:36.348Z"
   },
   {
    "duration": 5,
    "start_time": "2021-08-14T07:52:59.896Z"
   },
   {
    "duration": 6,
    "start_time": "2021-08-14T07:53:02.154Z"
   },
   {
    "duration": 537,
    "start_time": "2021-08-14T07:53:17.242Z"
   },
   {
    "duration": 6,
    "start_time": "2021-08-14T07:55:56.890Z"
   },
   {
    "duration": 6,
    "start_time": "2021-08-14T07:55:59.423Z"
   },
   {
    "duration": 578,
    "start_time": "2021-08-14T07:56:02.082Z"
   },
   {
    "duration": 6,
    "start_time": "2021-08-14T07:57:04.175Z"
   },
   {
    "duration": 6,
    "start_time": "2021-08-14T07:57:06.927Z"
   },
   {
    "duration": 5,
    "start_time": "2021-08-14T07:57:48.523Z"
   },
   {
    "duration": 6,
    "start_time": "2021-08-14T07:58:00.060Z"
   },
   {
    "duration": 538,
    "start_time": "2021-08-14T07:58:02.275Z"
   },
   {
    "duration": 5,
    "start_time": "2021-08-14T07:58:46.430Z"
   },
   {
    "duration": 8,
    "start_time": "2021-08-14T07:58:48.644Z"
   },
   {
    "duration": 25,
    "start_time": "2021-08-14T07:58:50.591Z"
   },
   {
    "duration": 257,
    "start_time": "2021-08-14T08:00:40.488Z"
   },
   {
    "duration": 172,
    "start_time": "2021-08-14T08:01:14.856Z"
   },
   {
    "duration": 258,
    "start_time": "2021-08-14T08:01:19.487Z"
   },
   {
    "duration": 264,
    "start_time": "2021-08-14T08:02:00.466Z"
   },
   {
    "duration": 374,
    "start_time": "2021-08-14T08:15:13.571Z"
   },
   {
    "duration": 2372,
    "start_time": "2021-08-14T08:15:32.944Z"
   },
   {
    "duration": 9,
    "start_time": "2021-08-14T08:16:21.985Z"
   },
   {
    "duration": 933,
    "start_time": "2021-08-14T08:17:02.614Z"
   },
   {
    "duration": 9,
    "start_time": "2021-08-14T08:17:17.260Z"
   },
   {
    "duration": 43424,
    "start_time": "2021-08-14T08:19:03.738Z"
   },
   {
    "duration": 9,
    "start_time": "2021-08-14T08:20:05.201Z"
   },
   {
    "duration": 18863,
    "start_time": "2021-08-14T08:20:09.507Z"
   },
   {
    "duration": 8,
    "start_time": "2021-08-14T08:20:51.474Z"
   },
   {
    "duration": 6,
    "start_time": "2021-08-14T08:20:54.366Z"
   },
   {
    "duration": 1384,
    "start_time": "2021-08-14T08:21:09.438Z"
   },
   {
    "duration": 63,
    "start_time": "2021-08-14T08:21:10.825Z"
   },
   {
    "duration": 6,
    "start_time": "2021-08-14T08:21:10.891Z"
   },
   {
    "duration": 16,
    "start_time": "2021-08-14T08:21:10.900Z"
   },
   {
    "duration": 10,
    "start_time": "2021-08-14T08:21:10.919Z"
   },
   {
    "duration": 3,
    "start_time": "2021-08-14T08:21:10.931Z"
   },
   {
    "duration": 49,
    "start_time": "2021-08-14T08:21:10.937Z"
   },
   {
    "duration": 4,
    "start_time": "2021-08-14T08:21:10.989Z"
   },
   {
    "duration": 71,
    "start_time": "2021-08-14T08:21:10.996Z"
   },
   {
    "duration": 41,
    "start_time": "2021-08-14T08:21:11.069Z"
   },
   {
    "duration": 3,
    "start_time": "2021-08-14T08:21:11.113Z"
   },
   {
    "duration": 10,
    "start_time": "2021-08-14T08:21:11.119Z"
   },
   {
    "duration": 7,
    "start_time": "2021-08-14T08:21:11.132Z"
   },
   {
    "duration": 1880,
    "start_time": "2021-08-14T08:21:11.142Z"
   },
   {
    "duration": 8,
    "start_time": "2021-08-14T08:21:13.024Z"
   },
   {
    "duration": 31286,
    "start_time": "2021-08-14T08:21:13.034Z"
   },
   {
    "duration": 7,
    "start_time": "2021-08-14T08:21:44.322Z"
   },
   {
    "duration": 32062,
    "start_time": "2021-08-14T08:21:44.332Z"
   },
   {
    "duration": 18,
    "start_time": "2021-08-14T08:22:16.398Z"
   },
   {
    "duration": 19465,
    "start_time": "2021-08-14T08:22:16.419Z"
   },
   {
    "duration": 106,
    "start_time": "2021-08-14T08:22:35.888Z"
   },
   {
    "duration": 11,
    "start_time": "2021-08-14T08:22:35.997Z"
   },
   {
    "duration": 5,
    "start_time": "2021-08-14T08:22:36.011Z"
   },
   {
    "duration": 10,
    "start_time": "2021-08-14T08:22:36.018Z"
   },
   {
    "duration": 59,
    "start_time": "2021-08-14T08:22:36.030Z"
   },
   {
    "duration": 187,
    "start_time": "2021-08-14T08:22:36.091Z"
   },
   {
    "duration": 189,
    "start_time": "2021-08-14T08:22:36.282Z"
   },
   {
    "duration": 2379,
    "start_time": "2021-08-14T08:22:36.474Z"
   },
   {
    "duration": 9,
    "start_time": "2021-08-14T08:22:38.855Z"
   },
   {
    "duration": 920,
    "start_time": "2021-08-14T08:22:38.866Z"
   },
   {
    "duration": 9,
    "start_time": "2021-08-14T08:22:39.789Z"
   },
   {
    "duration": 42707,
    "start_time": "2021-08-14T08:22:39.800Z"
   },
   {
    "duration": 9,
    "start_time": "2021-08-14T08:23:22.509Z"
   },
   {
    "duration": 19122,
    "start_time": "2021-08-14T08:23:22.520Z"
   },
   {
    "duration": 44,
    "start_time": "2021-08-14T08:23:41.655Z"
   },
   {
    "duration": 7,
    "start_time": "2021-08-14T08:28:45.081Z"
   },
   {
    "duration": 643,
    "start_time": "2021-08-14T08:31:00.042Z"
   },
   {
    "duration": 468,
    "start_time": "2021-08-14T08:31:47.711Z"
   },
   {
    "duration": 473,
    "start_time": "2021-08-14T08:32:41.622Z"
   },
   {
    "duration": 845,
    "start_time": "2021-08-14T08:45:12.557Z"
   },
   {
    "duration": 986,
    "start_time": "2021-08-14T08:45:25.809Z"
   },
   {
    "duration": 554,
    "start_time": "2021-08-14T08:47:53.681Z"
   },
   {
    "duration": 241,
    "start_time": "2021-08-14T08:48:18.201Z"
   },
   {
    "duration": 251,
    "start_time": "2021-08-14T08:48:42.358Z"
   },
   {
    "duration": 515,
    "start_time": "2021-08-14T08:48:59.744Z"
   },
   {
    "duration": 519,
    "start_time": "2021-08-14T08:49:21.196Z"
   },
   {
    "duration": 271,
    "start_time": "2021-08-14T08:49:32.885Z"
   },
   {
    "duration": 415,
    "start_time": "2021-08-14T11:16:27.279Z"
   },
   {
    "duration": 1037,
    "start_time": "2021-08-14T11:16:54.943Z"
   },
   {
    "duration": 331,
    "start_time": "2021-08-14T11:17:06.261Z"
   },
   {
    "duration": 232,
    "start_time": "2021-08-14T11:18:10.535Z"
   },
   {
    "duration": 247,
    "start_time": "2021-08-14T11:18:16.586Z"
   },
   {
    "duration": 224,
    "start_time": "2021-08-14T11:22:43.064Z"
   },
   {
    "duration": 220,
    "start_time": "2021-08-14T11:28:46.232Z"
   },
   {
    "duration": 240,
    "start_time": "2021-08-14T11:28:55.107Z"
   },
   {
    "duration": 1113,
    "start_time": "2021-08-14T11:29:05.170Z"
   },
   {
    "duration": 46,
    "start_time": "2021-08-14T11:29:06.285Z"
   },
   {
    "duration": 5,
    "start_time": "2021-08-14T11:29:06.333Z"
   },
   {
    "duration": 16,
    "start_time": "2021-08-14T11:29:06.340Z"
   },
   {
    "duration": 8,
    "start_time": "2021-08-14T11:29:06.358Z"
   },
   {
    "duration": 13,
    "start_time": "2021-08-14T11:29:06.368Z"
   },
   {
    "duration": 31,
    "start_time": "2021-08-14T11:29:06.382Z"
   },
   {
    "duration": 25,
    "start_time": "2021-08-14T11:29:06.416Z"
   },
   {
    "duration": 11,
    "start_time": "2021-08-14T11:29:06.444Z"
   },
   {
    "duration": 1240,
    "start_time": "2021-08-14T11:29:06.457Z"
   },
   {
    "duration": 6,
    "start_time": "2021-08-14T11:29:07.699Z"
   },
   {
    "duration": 19036,
    "start_time": "2021-08-14T11:29:07.707Z"
   },
   {
    "duration": 6,
    "start_time": "2021-08-14T11:29:26.745Z"
   },
   {
    "duration": 19082,
    "start_time": "2021-08-14T11:29:26.753Z"
   },
   {
    "duration": 12,
    "start_time": "2021-08-14T11:29:45.837Z"
   },
   {
    "duration": 14248,
    "start_time": "2021-08-14T11:29:45.850Z"
   },
   {
    "duration": 193,
    "start_time": "2021-08-14T11:30:00.100Z"
   },
   {
    "duration": 8,
    "start_time": "2021-08-14T11:30:00.295Z"
   },
   {
    "duration": 21,
    "start_time": "2021-08-14T11:30:00.304Z"
   },
   {
    "duration": 21,
    "start_time": "2021-08-14T11:30:00.326Z"
   },
   {
    "duration": 23,
    "start_time": "2021-08-14T11:30:00.349Z"
   },
   {
    "duration": 99,
    "start_time": "2021-08-14T11:30:00.373Z"
   },
   {
    "duration": 116,
    "start_time": "2021-08-14T11:30:00.475Z"
   },
   {
    "duration": 908,
    "start_time": "2021-08-14T11:30:00.593Z"
   },
   {
    "duration": 5,
    "start_time": "2021-08-14T11:30:01.502Z"
   },
   {
    "duration": 343,
    "start_time": "2021-08-14T11:30:01.509Z"
   },
   {
    "duration": 6,
    "start_time": "2021-08-14T11:30:01.853Z"
   },
   {
    "duration": 26412,
    "start_time": "2021-08-14T11:30:01.860Z"
   },
   {
    "duration": 18,
    "start_time": "2021-08-14T11:30:28.273Z"
   },
   {
    "duration": 11372,
    "start_time": "2021-08-14T11:30:28.293Z"
   },
   {
    "duration": 16,
    "start_time": "2021-08-14T11:30:39.666Z"
   },
   {
    "duration": 4,
    "start_time": "2021-08-14T11:30:39.691Z"
   },
   {
    "duration": 154,
    "start_time": "2021-08-14T11:30:39.696Z"
   },
   {
    "duration": 423,
    "start_time": "2021-08-14T11:30:39.852Z"
   },
   {
    "duration": 150,
    "start_time": "2021-08-14T11:30:40.277Z"
   },
   {
    "duration": 5,
    "start_time": "2021-08-14T11:32:59.108Z"
   },
   {
    "duration": 1079,
    "start_time": "2021-08-14T11:35:26.184Z"
   },
   {
    "duration": 41,
    "start_time": "2021-08-14T11:35:27.265Z"
   },
   {
    "duration": 5,
    "start_time": "2021-08-14T11:35:27.308Z"
   },
   {
    "duration": 10,
    "start_time": "2021-08-14T11:35:27.315Z"
   },
   {
    "duration": 8,
    "start_time": "2021-08-14T11:35:27.327Z"
   },
   {
    "duration": 8,
    "start_time": "2021-08-14T11:35:27.336Z"
   },
   {
    "duration": 54,
    "start_time": "2021-08-14T11:35:27.346Z"
   },
   {
    "duration": 25,
    "start_time": "2021-08-14T11:35:27.403Z"
   },
   {
    "duration": 3,
    "start_time": "2021-08-14T11:35:27.430Z"
   },
   {
    "duration": 1197,
    "start_time": "2021-08-14T11:35:27.435Z"
   },
   {
    "duration": 5,
    "start_time": "2021-08-14T11:35:28.633Z"
   },
   {
    "duration": 19020,
    "start_time": "2021-08-14T11:35:28.640Z"
   },
   {
    "duration": 6,
    "start_time": "2021-08-14T11:35:47.661Z"
   },
   {
    "duration": 19215,
    "start_time": "2021-08-14T11:35:47.668Z"
   },
   {
    "duration": 15,
    "start_time": "2021-08-14T11:36:06.885Z"
   },
   {
    "duration": 14291,
    "start_time": "2021-08-14T11:36:06.902Z"
   },
   {
    "duration": 103,
    "start_time": "2021-08-14T11:36:21.195Z"
   },
   {
    "duration": 9,
    "start_time": "2021-08-14T11:36:21.300Z"
   },
   {
    "duration": 4,
    "start_time": "2021-08-14T11:36:21.310Z"
   },
   {
    "duration": 6,
    "start_time": "2021-08-14T11:36:21.315Z"
   },
   {
    "duration": 18,
    "start_time": "2021-08-14T11:36:21.322Z"
   },
   {
    "duration": 118,
    "start_time": "2021-08-14T11:36:21.342Z"
   },
   {
    "duration": 107,
    "start_time": "2021-08-14T11:36:21.463Z"
   },
   {
    "duration": 869,
    "start_time": "2021-08-14T11:36:21.572Z"
   },
   {
    "duration": 5,
    "start_time": "2021-08-14T11:36:22.443Z"
   },
   {
    "duration": 353,
    "start_time": "2021-08-14T11:36:22.449Z"
   },
   {
    "duration": 5,
    "start_time": "2021-08-14T11:36:22.804Z"
   },
   {
    "duration": 26557,
    "start_time": "2021-08-14T11:36:22.810Z"
   },
   {
    "duration": 5,
    "start_time": "2021-08-14T11:36:49.368Z"
   },
   {
    "duration": 11624,
    "start_time": "2021-08-14T11:36:49.375Z"
   },
   {
    "duration": 16,
    "start_time": "2021-08-14T11:37:01.001Z"
   },
   {
    "duration": 11,
    "start_time": "2021-08-14T11:37:01.019Z"
   },
   {
    "duration": 162,
    "start_time": "2021-08-14T11:37:01.032Z"
   },
   {
    "duration": 425,
    "start_time": "2021-08-14T11:37:01.196Z"
   },
   {
    "duration": 184,
    "start_time": "2021-08-14T11:37:01.623Z"
   }
  ],
  "kernelspec": {
   "display_name": "Python 3 (ipykernel)",
   "language": "python",
   "name": "python3"
  },
  "language_info": {
   "codemirror_mode": {
    "name": "ipython",
    "version": 3
   },
   "file_extension": ".py",
   "mimetype": "text/x-python",
   "name": "python",
   "nbconvert_exporter": "python",
   "pygments_lexer": "ipython3",
   "version": "3.9.5"
  },
  "toc": {
   "base_numbering": 1,
   "nav_menu": {},
   "number_sections": true,
   "sideBar": true,
   "skip_h1_title": true,
   "title_cell": "Содержание",
   "title_sidebar": "Contents",
   "toc_cell": true,
   "toc_position": {},
   "toc_section_display": true,
   "toc_window_display": false
  }
 },
 "nbformat": 4,
 "nbformat_minor": 2
}
